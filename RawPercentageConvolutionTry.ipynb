{
  "nbformat": 4,
  "nbformat_minor": 0,
  "metadata": {
    "colab": {
      "provenance": [],
      "include_colab_link": true
    },
    "kernelspec": {
      "name": "python3",
      "display_name": "Python 3"
    },
    "language_info": {
      "name": "python"
    },
    "accelerator": "GPU",
    "gpuClass": "standard"
  },
  "cells": [
    {
      "cell_type": "markdown",
      "metadata": {
        "id": "view-in-github",
        "colab_type": "text"
      },
      "source": [
        "<a href=\"https://colab.research.google.com/github/plantehenry/NeuralNetworksFinalProject/blob/main/RawPercentageConvolutionTry.ipynb\" target=\"_parent\"><img src=\"https://colab.research.google.com/assets/colab-badge.svg\" alt=\"Open In Colab\"/></a>"
      ]
    },
    {
      "cell_type": "code",
      "source": [
        "import os\n",
        "os.environ['CUDA_LAUNCH_BLOCKING'] = \"1\"\n",
        "\n",
        "import torch\n",
        "import torchvision\n",
        "import torch.nn as nn\n",
        "import torchvision.transforms as transforms\n",
        "from torchvision.datasets import CIFAR100, CIFAR10\n",
        "from torch.utils.data import DataLoader, Dataset, random_split\n",
        "from torchvision.transforms.functional import resize\n",
        "from torchvision.transforms import CenterCrop\n",
        "from torchvision.transforms import ToTensor\n",
        "from torchvision.io import read_image\n",
        "from torchsummary import summary\n",
        "from tqdm import tqdm\n",
        "import numpy as np\n",
        "import pandas as pd"
      ],
      "metadata": {
        "id": "nfCs7DH7ex1L"
      },
      "execution_count": null,
      "outputs": []
    },
    {
      "cell_type": "code",
      "source": [
        "from google.colab import drive\n",
        "drive.mount('/content/drive')"
      ],
      "metadata": {
        "id": "PgNzdFYEpg_S",
        "colab": {
          "base_uri": "https://localhost:8080/"
        },
        "outputId": "67ca289d-e504-455b-9b79-76d659c01e0d"
      },
      "execution_count": null,
      "outputs": [
        {
          "output_type": "stream",
          "name": "stdout",
          "text": [
            "Mounted at /content/drive\n"
          ]
        }
      ]
    },
    {
      "cell_type": "markdown",
      "source": [
        "### Define Network"
      ],
      "metadata": {
        "id": "pSjILg0Se0_M"
      }
    },
    {
      "cell_type": "code",
      "source": [
        "class CNN(nn.Module):\n",
        "\n",
        "    def __init__(self, numChannels):\n",
        "        super(CNN, self).__init__()\n",
        "\n",
        "        # Convolutional layers:\n",
        "        self.conv1 = nn.Conv2d(in_channels = numChannels, out_channels = 7, kernel_size = (1, 10), stride = 1)\n",
        "        self.conv2 = nn.Conv2d(in_channels = 7, out_channels = 15, kernel_size = (1, 5), stride = (1,1))\n",
        "        self.conv3 = nn.Conv2d(in_channels = 15, out_channels = 15, kernel_size = (1, 3), stride = (1,1))\n",
        "        # self.conv4 = nn.Conv2d(in_channels = 384, out_channels = 384, kernel_size = (1, 3), stride = (1,1))\n",
        "        # self.conv5 = nn.Conv2d(in_channels = 384, out_channels = 256, kernel_size = (1, 3), stride = (1,1))\n",
        "\n",
        "        self.relu = nn.ReLU()\n",
        "\n",
        "        self.maxpool = nn.MaxPool2d(kernel_size = (1,2), stride = (1,2))\n",
        "\n",
        "        # Batch normalization layers:\n",
        "        self.batchnorm1 = nn.BatchNorm2d(num_features = 30)\n",
        "        self.batchnorm2 = nn.BatchNorm2d(num_features = 50)\n",
        "\n",
        "        # Fully-connected layers:\n",
        "        self.fc1 = nn.Linear(in_features = 60, out_features= 2)\n",
        "        self.fc2 = nn.Linear(in_features = 512, out_features= 4)\n",
        "\n",
        "        self.dropout1 = nn.Dropout2d(p = args.dropoutRate)\n",
        "        self.dropout2 = nn.Dropout2d(p = args.dropoutRate)\n",
        "        self.dropout3 = nn.Dropout2d(p = args.dropoutRate)\n",
        "        self.dropout4 = nn.Dropout(p = args.dropoutRate)\n",
        "\n",
        "    # Evaluation function\n",
        "    def evaluate(self, model, dataloader, device):\n",
        "        model.eval()\n",
        "        running_loss = 0.0\n",
        "        criterion = nn.MSELoss()  \n",
        "        for data in dataloader:\n",
        "                inputs, true = data\n",
        "                inputs = inputs.to(device)\n",
        "                true = true.to(device)\n",
        "                outputs = model(inputs)\n",
        "\n",
        "                loss = criterion(outputs, true)\n",
        "\n",
        "                loss = loss.detach().cpu().numpy()\n",
        "                running_loss += loss\n",
        "        return(running_loss/ dataloader.__len__())\n",
        "\n",
        "\n",
        "    def forward(self, x):\n",
        "        x = self.conv1(x)\n",
        "        x = self.relu(x)\n",
        "        x = self.dropout1(x)\n",
        "        x = self.maxpool(x)\n",
        "        # x = self.batchnorm1(x)\n",
        "        x = self.conv2(x)\n",
        "        x = self.relu(x)\n",
        "        x = self.dropout2(x)\n",
        "        x = self.maxpool(x)\n",
        "        # x = self.batchnorm2(x)\n",
        "        x = self.conv3(x)\n",
        "        x = self.relu(x)\n",
        "        x = self.dropout3(x)\n",
        "        # x = self.conv4(x)\n",
        "        # x = self.relu(x)\n",
        "        # x = self.conv5(x)\n",
        "        # x = self.relu(x)\n",
        "        x = self.maxpool(x)\n",
        "        x = torch.flatten(x, 1)\n",
        "        x = self.fc1(x)\n",
        "        # x = self.relu(x)\n",
        "        # x = self.fc2(x))\n",
        "\n",
        "\n",
        "        return x"
      ],
      "metadata": {
        "id": "bU3lPzXCXOpj"
      },
      "execution_count": null,
      "outputs": []
    },
    {
      "cell_type": "markdown",
      "source": [
        "### Data Loaders"
      ],
      "metadata": {
        "id": "RyhmhjrG4Qt9"
      }
    },
    {
      "cell_type": "code",
      "source": [
        "import argparse\n",
        "from torch.utils.data.dataloader import default_collate\n",
        "import csv\n",
        "\n",
        "\n",
        "class TrainData(torch.utils.data.Dataset):\n",
        "    def __init__(self,args):\n",
        "        self.args = args\n",
        "        self.input_sequence , self.output_sequence = self.loadData()\n",
        "    ## working on giving more than one sequence\n",
        "    def loadData(self):\n",
        "        # Read the text\n",
        "        input_sequence = []\n",
        "        with open(f\"{self.args.workingDir}/{self.args.inputFile}.csv\", newline='') as csvfile:\n",
        "          spamreader = csv.reader(csvfile, delimiter=',', quotechar='|')\n",
        "          spamreader.__next__()\n",
        "          for row in spamreader:\n",
        "              new_row = []\n",
        "              \n",
        "              # wrap each value in row in an array\n",
        "              for val in row:\n",
        "                new_row.append([float(val)])\n",
        "\n",
        "              # if this is the first row will need to initialize input sequence with arrays\n",
        "              while len(new_row) > len(input_sequence):\n",
        "                input_sequence.append([])\n",
        "              \n",
        "              # put each wrapped value in the correct index \n",
        "              for idx in range(len(new_row)):\n",
        "                input_sequence[idx].append(new_row[idx])\n",
        "        test_len = int(args.test_split * len(input_sequence[0]))\n",
        "        input_sequence = torch.tensor(input_sequence)[:, 0:test_len, :]\n",
        "\n",
        "\n",
        "\n",
        "        output_sequence = []\n",
        "        with open(f\"{self.args.workingDir}/{self.args.outputFile}.csv\", newline='') as csvfile:\n",
        "          spamreader = csv.reader(csvfile, delimiter=',', quotechar='|')\n",
        "          spamreader.__next__()\n",
        "          for row in spamreader:\n",
        "            new_row = []\n",
        "            for val in row:\n",
        "              new_row.append(float(val) * 100)\n",
        "            output_sequence.append(new_row)\n",
        "        output_sequence = torch.tensor(output_sequence)[0:test_len]\n",
        "        return input_sequence, output_sequence\n",
        "\n",
        "    def __len__(self):\n",
        "        # Get the number of sequences for training purpose.\n",
        "        return len(self.input_sequence[0]) - self.args.seqLength\n",
        "\n",
        "    # returns tensor is size [num_features, 1, seq_length]\n",
        "    def __getitem__(self, index):\n",
        "        return_seq = self.input_sequence[:, index:index+self.args.seqLength, :].transpose(1, 2).detach().clone()\n",
        "\n",
        "        return (\n",
        "            return_seq,\n",
        "            self.output_sequence[index+self.args.seqLength -1],\n",
        "        )\n",
        "\n",
        "\n",
        "class ValData(torch.utils.data.Dataset):\n",
        "    def __init__(self,args):\n",
        "        self.args = args\n",
        "        self.input_sequence , self.output_sequence = self.loadData()\n",
        "\n",
        "    def loadData(self):\n",
        "        # Read the text\n",
        "        input_sequence = []\n",
        "        with open(f\"{self.args.workingDir}/{self.args.inputFile}.csv\", newline='') as csvfile:\n",
        "          spamreader = csv.reader(csvfile, delimiter=',', quotechar='|')\n",
        "          spamreader.__next__()\n",
        "          for row in spamreader:\n",
        "              new_row = []\n",
        "              for val in row:\n",
        "                new_row.append([float(val)])\n",
        "              while len(new_row) > len(input_sequence):\n",
        "                input_sequence.append([])\n",
        "              for idx in range(len(new_row)):\n",
        "                input_sequence[idx].append(new_row[idx])\n",
        "        test_len = int(args.test_split * len(input_sequence[0]))\n",
        "        input_sequence = torch.tensor(input_sequence)[:, test_len: , :]\n",
        "\n",
        "        output_sequence = []\n",
        "        with open(f\"{self.args.workingDir}/{self.args.outputFile}.csv\", newline='') as csvfile:\n",
        "          spamreader = csv.reader(csvfile, delimiter=',', quotechar='|')\n",
        "          spamreader.__next__()\n",
        "          for row in spamreader:\n",
        "            new_row = []\n",
        "            for val in row:\n",
        "              new_row.append(float(val) * 100)\n",
        "            output_sequence.append(new_row)\n",
        "        output_sequence = torch.tensor(output_sequence)[test_len: ]\n",
        "        return input_sequence, output_sequence\n",
        "\n",
        "    def __len__(self):\n",
        "        # Get the number of sequences for training purpose.\n",
        "        return len(self.input_sequence[0]) - self.args.seqLength\n",
        "\n",
        "    def __getitem__(self, index):\n",
        "        return_seq = self.input_sequence[:, index:index+self.args.seqLength, :].transpose(1, 2).detach().clone()\n",
        "\n",
        "\n",
        "        return (\n",
        "            return_seq,\n",
        "            self.output_sequence[index+self.args.seqLength - 1],\n",
        "        )"
      ],
      "metadata": {
        "id": "9WXROY0Z4Sss"
      },
      "execution_count": null,
      "outputs": []
    },
    {
      "cell_type": "code",
      "source": [
        "parser = argparse.ArgumentParser()\n",
        "parser.add_argument('-f')\n",
        "parser.add_argument('--workingDir', type=str, \n",
        "    default=\"/content/drive/My Drive/Neural Networks Project\")\n",
        "# Can be game_of_thrones or wonder_land:\n",
        "parser.add_argument('--inputFile', type=str, default=\"input_data\") \n",
        "parser.add_argument('--outputFile', type=str, default=\"output_data\") \n",
        "parser.add_argument('--maxEpochs', type=int, default=100)\n",
        "parser.add_argument('--batchSize', type=int, default=12)\n",
        "parser.add_argument('--seqLength', type=int, default=63)\n",
        "parser.add_argument('--learningRate', type=float, default=.00001)\n",
        "parser.add_argument('--dropoutRate', type=float, default=0.3)\n",
        "parser.add_argument('--test_split', type=float, default=.9)\n",
        "parser.add_argument('--num_channels', type=float, default=2)\n",
        "args = parser.parse_args()"
      ],
      "metadata": {
        "id": "5GUSyYRanh58"
      },
      "execution_count": null,
      "outputs": []
    },
    {
      "cell_type": "code",
      "source": [
        "dataset = TrainData(args)\n",
        "train_loader = DataLoader(dataset,  batch_size=args.batchSize, shuffle=False, drop_last=False, num_workers=2)\n",
        "valset = ValData(args)\n",
        "val_loader = DataLoader(valset, batch_size=args.batchSize, shuffle=False, drop_last=False, num_workers=2)\n",
        "data_iter = iter(train_loader)\n",
        "print(dataset.__len__())\n",
        "print(valset.__len__())"
      ],
      "metadata": {
        "id": "ox0ZhjS7nVO8",
        "colab": {
          "base_uri": "https://localhost:8080/"
        },
        "outputId": "da5e52fc-6a30-437a-ec18-1e66d87690d9"
      },
      "execution_count": null,
      "outputs": [
        {
          "output_type": "stream",
          "name": "stdout",
          "text": [
            "4222\n",
            "414\n"
          ]
        }
      ]
    },
    {
      "cell_type": "markdown",
      "source": [
        "### The main training and evaluation code starts here"
      ],
      "metadata": {
        "id": "35KXsx9VGiWx"
      }
    },
    {
      "cell_type": "code",
      "source": [
        "if __name__ == '__main__':\n",
        "    # Specify the operation mode:\n",
        "    # 'train' = training with your train and validation data splits\n",
        "    # 'eval'  = evaluation of the trained model with your test data split \n",
        "    mode = 'train'\n",
        "\n",
        "    # Path where you plan to save the best model during training\n",
        "    my_best_model = \"/content/drive/MyDrive/Convolution_best_model.pth\"\n",
        "\n",
        "    # Set the device (GPU or CPU, depending on availability)\n",
        "    device = torch.device('cuda:0' if torch.cuda.is_available() else 'cpu')\n",
        "    print(\"Currently using device: \", device)\n",
        "\n",
        "    # Initialize the model and print out its configuration\n",
        "    model = CNN(numChannels = args.num_channels)\n",
        "    model.to(device)\n",
        "    print(\"\\n\\nModel summary:\\n\\n\")\n",
        "    summary(model, input_size=(args.num_channels, 1, 63))\n",
        "\n",
        "    if mode == \"train\":\n",
        "\n",
        "        print(\"\\n\\nTraining starts!\\n\\n\")\n",
        "        \n",
        "        model.train()\n",
        "        criterion = nn.MSELoss()\n",
        "        optimizer = torch.optim.Adam(model.parameters(), lr=args.learningRate)\n",
        "        # optimizer = torch.optim.SGD(model.parameters(), lr=0.01, momentum=0.5)\n",
        "        \n",
        "        best_val_loss = float('inf')\n",
        "        for epoch in range(args.maxEpochs):\n",
        "            running_loss = .0\n",
        "            print(f\"Starting epoch {epoch + 1}\")\n",
        "            bestLoss = float('inf')\n",
        "            for idx, data in tqdm(enumerate(train_loader), total=len(train_loader)):\n",
        "                # Get the inputs (data is a list of [inputs, labels])\n",
        "              \n",
        "                inputs, labels = data\n",
        "                inputs = inputs.to(device)\n",
        "                labels = labels.to(device)\n",
        "                optimizer.zero_grad()\n",
        "                outputs = model(inputs)\n",
        "                \n",
        "                loss = criterion(outputs, labels)\n",
        "                loss.backward()\n",
        "                optimizer.step()\n",
        "\n",
        "                loss = loss.detach().cpu().numpy()\n",
        "                inputs = inputs.detach().cpu().numpy()\n",
        "                labels = labels.detach().cpu().numpy()\n",
        "                running_loss += loss\n",
        "              \n",
        "            \n",
        "                currLoss = loss.item()\n",
        "                \n",
        "                # Only save models with smallest loss per epoch.\n",
        "                if currLoss < bestLoss:\n",
        "                    bestLoss = currLoss\n",
        "                    # torch.save(model.state_dict(), my_best_model)\n",
        "            print(f\"Epoch ID: {epoch}, 'the ave loss': {running_loss/ train_loader.__len__()}\")\n",
        "\n",
        "            # Evaluate the accuracy after each epoch\n",
        "            val_loss = model.evaluate(model, val_loader, device)\n",
        "            print(f\"Epoch ID: {epoch}, 'the ave val loss': {val_loss}\")\n",
        "            if val_loss < best_val_loss:\n",
        "                print(f\"Better validation accuracy achieved: {val_loss}\")\n",
        "                best_val_loss = val_loss\n",
        "                print(f\"Saving this model as: {my_best_model}\")\n",
        "                torch.save(model.state_dict(), my_best_model)\n",
        "\n",
        "    # And here we evaluate the trained model with the test data\n",
        "    # elif mode == \"eval\":\n",
        "\n",
        "    #     print(\"\\n\\nValidating the trained model:\")\n",
        "    #     print(f\"Loading checkpoint from {my_best_model}\")\n",
        "    #     model.load_state_dict(torch.load(my_best_model))\n",
        "    #     acc = model.evaluate(model, test_loader, classes, device)\n",
        "    #     print(f\"Accuracy on the test (unknown) data: {acc * 100:.2f}%\")\n",
        "\n",
        "    else:\n",
        "        print(\"'mode' argument should either be 'train' or 'eval'\")"
      ],
      "metadata": {
        "id": "yy5S2JkWgzsj",
        "colab": {
          "base_uri": "https://localhost:8080/",
          "height": 1000
        },
        "outputId": "d4e97237-e729-4cb2-fd51-63f453957ec7"
      },
      "execution_count": null,
      "outputs": [
        {
          "output_type": "stream",
          "name": "stdout",
          "text": [
            "Currently using device:  cuda:0\n",
            "\n",
            "\n",
            "Model summary:\n",
            "\n",
            "\n",
            "----------------------------------------------------------------\n",
            "        Layer (type)               Output Shape         Param #\n",
            "================================================================\n",
            "            Conv2d-1             [-1, 7, 1, 54]             147\n",
            "              ReLU-2             [-1, 7, 1, 54]               0\n",
            "         Dropout2d-3             [-1, 7, 1, 54]               0\n",
            "         MaxPool2d-4             [-1, 7, 1, 27]               0\n",
            "            Conv2d-5            [-1, 15, 1, 23]             540\n",
            "              ReLU-6            [-1, 15, 1, 23]               0\n",
            "         Dropout2d-7            [-1, 15, 1, 23]               0\n",
            "         MaxPool2d-8            [-1, 15, 1, 11]               0\n",
            "            Conv2d-9             [-1, 15, 1, 9]             690\n",
            "             ReLU-10             [-1, 15, 1, 9]               0\n",
            "        Dropout2d-11             [-1, 15, 1, 9]               0\n",
            "        MaxPool2d-12             [-1, 15, 1, 4]               0\n",
            "           Linear-13                    [-1, 2]             122\n",
            "================================================================\n",
            "Total params: 1,499\n",
            "Trainable params: 1,499\n",
            "Non-trainable params: 0\n",
            "----------------------------------------------------------------\n",
            "Input size (MB): 0.00\n",
            "Forward/backward pass size (MB): 0.02\n",
            "Params size (MB): 0.01\n",
            "Estimated Total Size (MB): 0.03\n",
            "----------------------------------------------------------------\n",
            "\n",
            "\n",
            "Training starts!\n",
            "\n",
            "\n",
            "Starting epoch 1\n"
          ]
        },
        {
          "output_type": "stream",
          "name": "stderr",
          "text": [
            "100%|██████████| 352/352 [00:01<00:00, 200.69it/s]\n"
          ]
        },
        {
          "output_type": "stream",
          "name": "stdout",
          "text": [
            "Epoch ID: 0, 'the ave loss': 3002.8171998804264\n",
            "Epoch ID: 0, 'the ave val loss': 565.055965750558\n",
            "Better validation accuracy achieved: 565.055965750558\n",
            "Saving this model as: /content/drive/MyDrive/Convolution_best_model.pth\n",
            "Starting epoch 2\n"
          ]
        },
        {
          "output_type": "stream",
          "name": "stderr",
          "text": [
            "100%|██████████| 352/352 [00:01<00:00, 217.67it/s]"
          ]
        },
        {
          "output_type": "stream",
          "name": "stdout",
          "text": [
            "Epoch ID: 1, 'the ave loss': 57.02852628447793\n"
          ]
        },
        {
          "output_type": "stream",
          "name": "stderr",
          "text": [
            "\n"
          ]
        },
        {
          "output_type": "stream",
          "name": "stdout",
          "text": [
            "Epoch ID: 1, 'the ave val loss': 51.64734529767718\n",
            "Better validation accuracy achieved: 51.64734529767718\n",
            "Saving this model as: /content/drive/MyDrive/Convolution_best_model.pth\n",
            "Starting epoch 3\n"
          ]
        },
        {
          "output_type": "stream",
          "name": "stderr",
          "text": [
            "100%|██████████| 352/352 [00:02<00:00, 172.14it/s]"
          ]
        },
        {
          "output_type": "stream",
          "name": "stdout",
          "text": [
            "Epoch ID: 2, 'the ave loss': 13.840138186785309\n"
          ]
        },
        {
          "output_type": "stream",
          "name": "stderr",
          "text": [
            "\n"
          ]
        },
        {
          "output_type": "stream",
          "name": "stdout",
          "text": [
            "Epoch ID: 2, 'the ave val loss': 15.78083017553602\n",
            "Better validation accuracy achieved: 15.78083017553602\n",
            "Saving this model as: /content/drive/MyDrive/Convolution_best_model.pth\n",
            "Starting epoch 4\n"
          ]
        },
        {
          "output_type": "stream",
          "name": "stderr",
          "text": [
            "100%|██████████| 352/352 [00:01<00:00, 201.62it/s]"
          ]
        },
        {
          "output_type": "stream",
          "name": "stdout",
          "text": [
            "Epoch ID: 3, 'the ave loss': 11.508016824171962\n"
          ]
        },
        {
          "output_type": "stream",
          "name": "stderr",
          "text": [
            "\n"
          ]
        },
        {
          "output_type": "stream",
          "name": "stdout",
          "text": [
            "Epoch ID: 3, 'the ave val loss': 15.128058436938694\n",
            "Better validation accuracy achieved: 15.128058436938694\n",
            "Saving this model as: /content/drive/MyDrive/Convolution_best_model.pth\n",
            "Starting epoch 5\n"
          ]
        },
        {
          "output_type": "stream",
          "name": "stderr",
          "text": [
            "100%|██████████| 352/352 [00:01<00:00, 216.98it/s]"
          ]
        },
        {
          "output_type": "stream",
          "name": "stdout",
          "text": [
            "Epoch ID: 4, 'the ave loss': 11.444233995777639\n"
          ]
        },
        {
          "output_type": "stream",
          "name": "stderr",
          "text": [
            "\n"
          ]
        },
        {
          "output_type": "stream",
          "name": "stdout",
          "text": [
            "Epoch ID: 4, 'the ave val loss': 15.121611363547188\n",
            "Better validation accuracy achieved: 15.121611363547188\n",
            "Saving this model as: /content/drive/MyDrive/Convolution_best_model.pth\n",
            "Starting epoch 6\n"
          ]
        },
        {
          "output_type": "stream",
          "name": "stderr",
          "text": [
            "100%|██████████| 352/352 [00:01<00:00, 220.98it/s]"
          ]
        },
        {
          "output_type": "stream",
          "name": "stdout",
          "text": [
            "Epoch ID: 5, 'the ave loss': 11.454086765477603\n"
          ]
        },
        {
          "output_type": "stream",
          "name": "stderr",
          "text": [
            "\n"
          ]
        },
        {
          "output_type": "stream",
          "name": "stdout",
          "text": [
            "Epoch ID: 5, 'the ave val loss': 15.185208989892686\n",
            "Starting epoch 7\n"
          ]
        },
        {
          "output_type": "stream",
          "name": "stderr",
          "text": [
            "100%|██████████| 352/352 [00:01<00:00, 214.37it/s]"
          ]
        },
        {
          "output_type": "stream",
          "name": "stdout",
          "text": [
            "Epoch ID: 6, 'the ave loss': 11.46790083366531\n"
          ]
        },
        {
          "output_type": "stream",
          "name": "stderr",
          "text": [
            "\n"
          ]
        },
        {
          "output_type": "stream",
          "name": "stdout",
          "text": [
            "Epoch ID: 6, 'the ave val loss': 15.285570960385458\n",
            "Starting epoch 8\n"
          ]
        },
        {
          "output_type": "stream",
          "name": "stderr",
          "text": [
            "100%|██████████| 352/352 [00:01<00:00, 219.56it/s]"
          ]
        },
        {
          "output_type": "stream",
          "name": "stdout",
          "text": [
            "Epoch ID: 7, 'the ave loss': 11.482462917412208\n"
          ]
        },
        {
          "output_type": "stream",
          "name": "stderr",
          "text": [
            "\n"
          ]
        },
        {
          "output_type": "stream",
          "name": "stdout",
          "text": [
            "Epoch ID: 7, 'the ave val loss': 15.413154695715223\n",
            "Starting epoch 9\n"
          ]
        },
        {
          "output_type": "stream",
          "name": "stderr",
          "text": [
            "100%|██████████| 352/352 [00:01<00:00, 196.06it/s]"
          ]
        },
        {
          "output_type": "stream",
          "name": "stdout",
          "text": [
            "Epoch ID: 8, 'the ave loss': 11.497272822370922\n"
          ]
        },
        {
          "output_type": "stream",
          "name": "stderr",
          "text": [
            "\n"
          ]
        },
        {
          "output_type": "stream",
          "name": "stdout",
          "text": [
            "Epoch ID: 8, 'the ave val loss': 15.562759143965584\n",
            "Starting epoch 10\n"
          ]
        },
        {
          "output_type": "stream",
          "name": "stderr",
          "text": [
            "100%|██████████| 352/352 [00:02<00:00, 160.80it/s]"
          ]
        },
        {
          "output_type": "stream",
          "name": "stdout",
          "text": [
            "Epoch ID: 9, 'the ave loss': 11.512079982087016\n"
          ]
        },
        {
          "output_type": "stream",
          "name": "stderr",
          "text": [
            "\n"
          ]
        },
        {
          "output_type": "stream",
          "name": "stdout",
          "text": [
            "Epoch ID: 9, 'the ave val loss': 15.723570435387748\n",
            "Starting epoch 11\n"
          ]
        },
        {
          "output_type": "stream",
          "name": "stderr",
          "text": [
            "100%|██████████| 352/352 [00:01<00:00, 207.43it/s]"
          ]
        },
        {
          "output_type": "stream",
          "name": "stdout",
          "text": [
            "Epoch ID: 10, 'the ave loss': 11.526607483329082\n"
          ]
        },
        {
          "output_type": "stream",
          "name": "stderr",
          "text": [
            "\n"
          ]
        },
        {
          "output_type": "stream",
          "name": "stdout",
          "text": [
            "Epoch ID: 10, 'the ave val loss': 15.879771770749773\n",
            "Starting epoch 12\n"
          ]
        },
        {
          "output_type": "stream",
          "name": "stderr",
          "text": [
            "100%|██████████| 352/352 [00:01<00:00, 218.45it/s]"
          ]
        },
        {
          "output_type": "stream",
          "name": "stdout",
          "text": [
            "Epoch ID: 11, 'the ave loss': 11.540572198488833\n"
          ]
        },
        {
          "output_type": "stream",
          "name": "stderr",
          "text": [
            "\n"
          ]
        },
        {
          "output_type": "stream",
          "name": "stdout",
          "text": [
            "Epoch ID: 11, 'the ave val loss': 16.015324352468763\n",
            "Starting epoch 13\n"
          ]
        },
        {
          "output_type": "stream",
          "name": "stderr",
          "text": [
            "100%|██████████| 352/352 [00:01<00:00, 220.04it/s]"
          ]
        },
        {
          "output_type": "stream",
          "name": "stdout",
          "text": [
            "Epoch ID: 12, 'the ave loss': 11.55371851093051\n"
          ]
        },
        {
          "output_type": "stream",
          "name": "stderr",
          "text": [
            "\n"
          ]
        },
        {
          "output_type": "stream",
          "name": "stdout",
          "text": [
            "Epoch ID: 12, 'the ave val loss': 16.115769066129413\n",
            "Starting epoch 14\n"
          ]
        },
        {
          "output_type": "stream",
          "name": "stderr",
          "text": [
            "100%|██████████| 352/352 [00:01<00:00, 221.76it/s]"
          ]
        },
        {
          "output_type": "stream",
          "name": "stdout",
          "text": [
            "Epoch ID: 13, 'the ave loss': 11.565832240253009\n"
          ]
        },
        {
          "output_type": "stream",
          "name": "stderr",
          "text": [
            "\n"
          ]
        },
        {
          "output_type": "stream",
          "name": "stdout",
          "text": [
            "Epoch ID: 13, 'the ave val loss': 16.173216455323356\n",
            "Starting epoch 15\n"
          ]
        },
        {
          "output_type": "stream",
          "name": "stderr",
          "text": [
            "100%|██████████| 352/352 [00:01<00:00, 222.48it/s]"
          ]
        },
        {
          "output_type": "stream",
          "name": "stdout",
          "text": [
            "Epoch ID: 14, 'the ave loss': 11.5767419538884\n"
          ]
        },
        {
          "output_type": "stream",
          "name": "stderr",
          "text": [
            "\n"
          ]
        },
        {
          "output_type": "stream",
          "name": "stdout",
          "text": [
            "Epoch ID: 14, 'the ave val loss': 16.186906036308834\n",
            "Starting epoch 16\n"
          ]
        },
        {
          "output_type": "stream",
          "name": "stderr",
          "text": [
            "100%|██████████| 352/352 [00:02<00:00, 169.11it/s]"
          ]
        },
        {
          "output_type": "stream",
          "name": "stdout",
          "text": [
            "Epoch ID: 15, 'the ave loss': 11.586359018248253\n"
          ]
        },
        {
          "output_type": "stream",
          "name": "stderr",
          "text": [
            "\n"
          ]
        },
        {
          "output_type": "stream",
          "name": "stdout",
          "text": [
            "Epoch ID: 15, 'the ave val loss': 16.162633177212307\n",
            "Starting epoch 17\n"
          ]
        },
        {
          "output_type": "stream",
          "name": "stderr",
          "text": [
            "100%|██████████| 352/352 [00:01<00:00, 185.71it/s]"
          ]
        },
        {
          "output_type": "stream",
          "name": "stdout",
          "text": [
            "Epoch ID: 16, 'the ave loss': 11.594622214409439\n"
          ]
        },
        {
          "output_type": "stream",
          "name": "stderr",
          "text": [
            "\n"
          ]
        },
        {
          "output_type": "stream",
          "name": "stdout",
          "text": [
            "Epoch ID: 16, 'the ave val loss': 16.110677124772753\n",
            "Starting epoch 18\n"
          ]
        },
        {
          "output_type": "stream",
          "name": "stderr",
          "text": [
            "100%|██████████| 352/352 [00:01<00:00, 218.25it/s]"
          ]
        },
        {
          "output_type": "stream",
          "name": "stdout",
          "text": [
            "Epoch ID: 17, 'the ave loss': 11.601541888561439\n"
          ]
        },
        {
          "output_type": "stream",
          "name": "stderr",
          "text": [
            "\n"
          ]
        },
        {
          "output_type": "stream",
          "name": "stdout",
          "text": [
            "Epoch ID: 17, 'the ave val loss': 16.043321248463222\n",
            "Starting epoch 19\n"
          ]
        },
        {
          "output_type": "stream",
          "name": "stderr",
          "text": [
            "100%|██████████| 352/352 [00:01<00:00, 218.15it/s]"
          ]
        },
        {
          "output_type": "stream",
          "name": "stdout",
          "text": [
            "Epoch ID: 18, 'the ave loss': 11.607165482403202\n"
          ]
        },
        {
          "output_type": "stream",
          "name": "stderr",
          "text": [
            "\n"
          ]
        },
        {
          "output_type": "stream",
          "name": "stdout",
          "text": [
            "Epoch ID: 18, 'the ave val loss': 15.971778045381818\n",
            "Starting epoch 20\n"
          ]
        },
        {
          "output_type": "stream",
          "name": "stderr",
          "text": [
            "100%|██████████| 352/352 [00:01<00:00, 217.47it/s]"
          ]
        },
        {
          "output_type": "stream",
          "name": "stdout",
          "text": [
            "Epoch ID: 19, 'the ave loss': 11.611599094827067\n"
          ]
        },
        {
          "output_type": "stream",
          "name": "stderr",
          "text": [
            "\n"
          ]
        },
        {
          "output_type": "stream",
          "name": "stdout",
          "text": [
            "Epoch ID: 19, 'the ave val loss': 15.904561577524458\n",
            "Starting epoch 21\n"
          ]
        },
        {
          "output_type": "stream",
          "name": "stderr",
          "text": [
            "100%|██████████| 352/352 [00:01<00:00, 215.54it/s]"
          ]
        },
        {
          "output_type": "stream",
          "name": "stdout",
          "text": [
            "Epoch ID: 20, 'the ave loss': 11.614940299440853\n"
          ]
        },
        {
          "output_type": "stream",
          "name": "stderr",
          "text": [
            "\n"
          ]
        },
        {
          "output_type": "stream",
          "name": "stdout",
          "text": [
            "Epoch ID: 20, 'the ave val loss': 15.846167067119053\n",
            "Starting epoch 22\n"
          ]
        },
        {
          "output_type": "stream",
          "name": "stderr",
          "text": [
            "100%|██████████| 352/352 [00:01<00:00, 206.05it/s]"
          ]
        },
        {
          "output_type": "stream",
          "name": "stdout",
          "text": [
            "Epoch ID: 21, 'the ave loss': 11.61730548912998\n"
          ]
        },
        {
          "output_type": "stream",
          "name": "stderr",
          "text": [
            "\n"
          ]
        },
        {
          "output_type": "stream",
          "name": "stdout",
          "text": [
            "Epoch ID: 21, 'the ave val loss': 15.797925136770521\n",
            "Starting epoch 23\n"
          ]
        },
        {
          "output_type": "stream",
          "name": "stderr",
          "text": [
            "100%|██████████| 352/352 [00:02<00:00, 166.37it/s]"
          ]
        },
        {
          "output_type": "stream",
          "name": "stdout",
          "text": [
            "Epoch ID: 22, 'the ave loss': 11.618811090476811\n"
          ]
        },
        {
          "output_type": "stream",
          "name": "stderr",
          "text": [
            "\n"
          ]
        },
        {
          "output_type": "stream",
          "name": "stdout",
          "text": [
            "Epoch ID: 22, 'the ave val loss': 15.760571946416583\n",
            "Starting epoch 24\n"
          ]
        },
        {
          "output_type": "stream",
          "name": "stderr",
          "text": [
            "100%|██████████| 352/352 [00:01<00:00, 216.43it/s]"
          ]
        },
        {
          "output_type": "stream",
          "name": "stdout",
          "text": [
            "Epoch ID: 23, 'the ave loss': 11.61956530699337\n"
          ]
        },
        {
          "output_type": "stream",
          "name": "stderr",
          "text": [
            "\n"
          ]
        },
        {
          "output_type": "stream",
          "name": "stdout",
          "text": [
            "Epoch ID: 23, 'the ave val loss': 15.732376003265381\n",
            "Starting epoch 25\n"
          ]
        },
        {
          "output_type": "stream",
          "name": "stderr",
          "text": [
            "100%|██████████| 352/352 [00:01<00:00, 220.70it/s]"
          ]
        },
        {
          "output_type": "stream",
          "name": "stdout",
          "text": [
            "Epoch ID: 24, 'the ave loss': 11.619730958334086\n"
          ]
        },
        {
          "output_type": "stream",
          "name": "stderr",
          "text": [
            "\n"
          ]
        },
        {
          "output_type": "stream",
          "name": "stdout",
          "text": [
            "Epoch ID: 24, 'the ave val loss': 15.711402356624603\n",
            "Starting epoch 26\n"
          ]
        },
        {
          "output_type": "stream",
          "name": "stderr",
          "text": [
            "100%|██████████| 352/352 [00:01<00:00, 219.52it/s]"
          ]
        },
        {
          "output_type": "stream",
          "name": "stdout",
          "text": [
            "Epoch ID: 25, 'the ave loss': 11.619386873969978\n"
          ]
        },
        {
          "output_type": "stream",
          "name": "stderr",
          "text": [
            "\n"
          ]
        },
        {
          "output_type": "stream",
          "name": "stdout",
          "text": [
            "Epoch ID: 25, 'the ave val loss': 15.696272943701063\n",
            "Starting epoch 27\n"
          ]
        },
        {
          "output_type": "stream",
          "name": "stderr",
          "text": [
            "100%|██████████| 352/352 [00:01<00:00, 217.00it/s]"
          ]
        },
        {
          "output_type": "stream",
          "name": "stdout",
          "text": [
            "Epoch ID: 26, 'the ave loss': 11.618658966892822\n"
          ]
        },
        {
          "output_type": "stream",
          "name": "stderr",
          "text": [
            "\n"
          ]
        },
        {
          "output_type": "stream",
          "name": "stdout",
          "text": [
            "Epoch ID: 26, 'the ave val loss': 15.685767427512578\n",
            "Starting epoch 28\n"
          ]
        },
        {
          "output_type": "stream",
          "name": "stderr",
          "text": [
            "100%|██████████| 352/352 [00:01<00:00, 214.49it/s]"
          ]
        },
        {
          "output_type": "stream",
          "name": "stdout",
          "text": [
            "Epoch ID: 27, 'the ave loss': 11.617576151154935\n"
          ]
        },
        {
          "output_type": "stream",
          "name": "stderr",
          "text": [
            "\n"
          ]
        },
        {
          "output_type": "stream",
          "name": "stdout",
          "text": [
            "Epoch ID: 27, 'the ave val loss': 15.678709108488901\n",
            "Starting epoch 29\n"
          ]
        },
        {
          "output_type": "stream",
          "name": "stderr",
          "text": [
            "100%|██████████| 352/352 [00:01<00:00, 182.01it/s]"
          ]
        },
        {
          "output_type": "stream",
          "name": "stdout",
          "text": [
            "Epoch ID: 28, 'the ave loss': 11.616255102298139\n"
          ]
        },
        {
          "output_type": "stream",
          "name": "stderr",
          "text": [
            "\n"
          ]
        },
        {
          "output_type": "stream",
          "name": "stdout",
          "text": [
            "Epoch ID: 28, 'the ave val loss': 15.674161807128362\n",
            "Starting epoch 30\n"
          ]
        },
        {
          "output_type": "stream",
          "name": "stderr",
          "text": [
            "100%|██████████| 352/352 [00:02<00:00, 173.02it/s]"
          ]
        },
        {
          "output_type": "stream",
          "name": "stdout",
          "text": [
            "Epoch ID: 29, 'the ave loss': 11.614753015508706\n"
          ]
        },
        {
          "output_type": "stream",
          "name": "stderr",
          "text": [
            "\n"
          ]
        },
        {
          "output_type": "stream",
          "name": "stdout",
          "text": [
            "Epoch ID: 29, 'the ave val loss': 15.67189349617277\n",
            "Starting epoch 31\n"
          ]
        },
        {
          "output_type": "stream",
          "name": "stderr",
          "text": [
            "100%|██████████| 352/352 [00:01<00:00, 217.01it/s]"
          ]
        },
        {
          "output_type": "stream",
          "name": "stdout",
          "text": [
            "Epoch ID: 30, 'the ave loss': 11.613100030755794\n"
          ]
        },
        {
          "output_type": "stream",
          "name": "stderr",
          "text": [
            "\n"
          ]
        },
        {
          "output_type": "stream",
          "name": "stdout",
          "text": [
            "Epoch ID: 30, 'the ave val loss': 15.670690374714988\n",
            "Starting epoch 32\n"
          ]
        },
        {
          "output_type": "stream",
          "name": "stderr",
          "text": [
            "100%|██████████| 352/352 [00:01<00:00, 218.67it/s]"
          ]
        },
        {
          "output_type": "stream",
          "name": "stdout",
          "text": [
            "Epoch ID: 31, 'the ave loss': 11.611354912800545\n"
          ]
        },
        {
          "output_type": "stream",
          "name": "stderr",
          "text": [
            "\n"
          ]
        },
        {
          "output_type": "stream",
          "name": "stdout",
          "text": [
            "Epoch ID: 31, 'the ave val loss': 15.67066434110914\n",
            "Starting epoch 33\n"
          ]
        },
        {
          "output_type": "stream",
          "name": "stderr",
          "text": [
            "100%|██████████| 352/352 [00:01<00:00, 215.92it/s]"
          ]
        },
        {
          "output_type": "stream",
          "name": "stdout",
          "text": [
            "Epoch ID: 32, 'the ave loss': 11.609543107534675\n"
          ]
        },
        {
          "output_type": "stream",
          "name": "stderr",
          "text": [
            "\n"
          ]
        },
        {
          "output_type": "stream",
          "name": "stdout",
          "text": [
            "Epoch ID: 32, 'the ave val loss': 15.671419853823526\n",
            "Starting epoch 34\n"
          ]
        },
        {
          "output_type": "stream",
          "name": "stderr",
          "text": [
            "100%|██████████| 352/352 [00:01<00:00, 220.26it/s]"
          ]
        },
        {
          "output_type": "stream",
          "name": "stdout",
          "text": [
            "Epoch ID: 33, 'the ave loss': 11.607714317993008\n"
          ]
        },
        {
          "output_type": "stream",
          "name": "stderr",
          "text": [
            "\n"
          ]
        },
        {
          "output_type": "stream",
          "name": "stdout",
          "text": [
            "Epoch ID: 33, 'the ave val loss': 15.67273452281952\n",
            "Starting epoch 35\n"
          ]
        },
        {
          "output_type": "stream",
          "name": "stderr",
          "text": [
            "100%|██████████| 352/352 [00:01<00:00, 222.04it/s]"
          ]
        },
        {
          "output_type": "stream",
          "name": "stdout",
          "text": [
            "Epoch ID: 34, 'the ave loss': 11.605864526830953\n"
          ]
        },
        {
          "output_type": "stream",
          "name": "stderr",
          "text": [
            "\n"
          ]
        },
        {
          "output_type": "stream",
          "name": "stdout",
          "text": [
            "Epoch ID: 34, 'the ave val loss': 15.674691832065582\n",
            "Starting epoch 36\n"
          ]
        },
        {
          "output_type": "stream",
          "name": "stderr",
          "text": [
            "100%|██████████| 352/352 [00:02<00:00, 170.48it/s]"
          ]
        },
        {
          "output_type": "stream",
          "name": "stdout",
          "text": [
            "Epoch ID: 35, 'the ave loss': 11.603989085055549\n"
          ]
        },
        {
          "output_type": "stream",
          "name": "stderr",
          "text": [
            "\n"
          ]
        },
        {
          "output_type": "stream",
          "name": "stdout",
          "text": [
            "Epoch ID: 35, 'the ave val loss': 15.675952679770333\n",
            "Starting epoch 37\n"
          ]
        },
        {
          "output_type": "stream",
          "name": "stderr",
          "text": [
            "100%|██████████| 352/352 [00:01<00:00, 188.23it/s]"
          ]
        },
        {
          "output_type": "stream",
          "name": "stdout",
          "text": [
            "Epoch ID: 36, 'the ave loss': 11.60217708840289\n"
          ]
        },
        {
          "output_type": "stream",
          "name": "stderr",
          "text": [
            "\n"
          ]
        },
        {
          "output_type": "stream",
          "name": "stdout",
          "text": [
            "Epoch ID: 36, 'the ave val loss': 15.67840439592089\n",
            "Starting epoch 38\n"
          ]
        },
        {
          "output_type": "stream",
          "name": "stderr",
          "text": [
            "100%|██████████| 352/352 [00:01<00:00, 221.38it/s]"
          ]
        },
        {
          "output_type": "stream",
          "name": "stdout",
          "text": [
            "Epoch ID: 37, 'the ave loss': 11.600349501748992\n"
          ]
        },
        {
          "output_type": "stream",
          "name": "stderr",
          "text": [
            "\n"
          ]
        },
        {
          "output_type": "stream",
          "name": "stdout",
          "text": [
            "Epoch ID: 37, 'the ave val loss': 15.681006734711783\n",
            "Starting epoch 39\n"
          ]
        },
        {
          "output_type": "stream",
          "name": "stderr",
          "text": [
            "100%|██████████| 352/352 [00:01<00:00, 213.31it/s]"
          ]
        },
        {
          "output_type": "stream",
          "name": "stdout",
          "text": [
            "Epoch ID: 38, 'the ave loss': 11.598581775387919\n"
          ]
        },
        {
          "output_type": "stream",
          "name": "stderr",
          "text": [
            "\n"
          ]
        },
        {
          "output_type": "stream",
          "name": "stdout",
          "text": [
            "Epoch ID: 38, 'the ave val loss': 15.68401288815907\n",
            "Starting epoch 40\n"
          ]
        },
        {
          "output_type": "stream",
          "name": "stderr",
          "text": [
            "100%|██████████| 352/352 [00:01<00:00, 221.92it/s]"
          ]
        },
        {
          "output_type": "stream",
          "name": "stdout",
          "text": [
            "Epoch ID: 39, 'the ave loss': 11.596747492397713\n"
          ]
        },
        {
          "output_type": "stream",
          "name": "stderr",
          "text": [
            "\n"
          ]
        },
        {
          "output_type": "stream",
          "name": "stdout",
          "text": [
            "Epoch ID: 39, 'the ave val loss': 15.687090075016021\n",
            "Starting epoch 41\n"
          ]
        },
        {
          "output_type": "stream",
          "name": "stderr",
          "text": [
            "100%|██████████| 352/352 [00:01<00:00, 220.69it/s]"
          ]
        },
        {
          "output_type": "stream",
          "name": "stdout",
          "text": [
            "Epoch ID: 40, 'the ave loss': 11.595009735700758\n"
          ]
        },
        {
          "output_type": "stream",
          "name": "stderr",
          "text": [
            "\n"
          ]
        },
        {
          "output_type": "stream",
          "name": "stdout",
          "text": [
            "Epoch ID: 40, 'the ave val loss': 15.689946222305299\n",
            "Starting epoch 42\n"
          ]
        },
        {
          "output_type": "stream",
          "name": "stderr",
          "text": [
            "100%|██████████| 352/352 [00:01<00:00, 198.03it/s]"
          ]
        },
        {
          "output_type": "stream",
          "name": "stdout",
          "text": [
            "Epoch ID: 41, 'the ave loss': 11.593275141436607\n"
          ]
        },
        {
          "output_type": "stream",
          "name": "stderr",
          "text": [
            "\n"
          ]
        },
        {
          "output_type": "stream",
          "name": "stdout",
          "text": [
            "Epoch ID: 41, 'the ave val loss': 15.69329902103969\n",
            "Starting epoch 43\n"
          ]
        },
        {
          "output_type": "stream",
          "name": "stderr",
          "text": [
            "100%|██████████| 352/352 [00:02<00:00, 160.97it/s]"
          ]
        },
        {
          "output_type": "stream",
          "name": "stdout",
          "text": [
            "Epoch ID: 42, 'the ave loss': 11.591602725781161\n"
          ]
        },
        {
          "output_type": "stream",
          "name": "stderr",
          "text": [
            "\n"
          ]
        },
        {
          "output_type": "stream",
          "name": "stdout",
          "text": [
            "Epoch ID: 42, 'the ave val loss': 15.696260852473122\n",
            "Starting epoch 44\n"
          ]
        },
        {
          "output_type": "stream",
          "name": "stderr",
          "text": [
            "100%|██████████| 352/352 [00:01<00:00, 217.78it/s]"
          ]
        },
        {
          "output_type": "stream",
          "name": "stdout",
          "text": [
            "Epoch ID: 43, 'the ave loss': 11.589939976068722\n"
          ]
        },
        {
          "output_type": "stream",
          "name": "stderr",
          "text": [
            "\n"
          ]
        },
        {
          "output_type": "stream",
          "name": "stdout",
          "text": [
            "Epoch ID: 43, 'the ave val loss': 15.699686758858817\n",
            "Starting epoch 45\n"
          ]
        },
        {
          "output_type": "stream",
          "name": "stderr",
          "text": [
            "100%|██████████| 352/352 [00:01<00:00, 219.95it/s]"
          ]
        },
        {
          "output_type": "stream",
          "name": "stdout",
          "text": [
            "Epoch ID: 44, 'the ave loss': 11.588314476465298\n"
          ]
        },
        {
          "output_type": "stream",
          "name": "stderr",
          "text": [
            "\n"
          ]
        },
        {
          "output_type": "stream",
          "name": "stdout",
          "text": [
            "Epoch ID: 44, 'the ave val loss': 15.703282856941223\n",
            "Starting epoch 46\n"
          ]
        },
        {
          "output_type": "stream",
          "name": "stderr",
          "text": [
            "100%|██████████| 352/352 [00:01<00:00, 216.70it/s]"
          ]
        },
        {
          "output_type": "stream",
          "name": "stdout",
          "text": [
            "Epoch ID: 45, 'the ave loss': 11.586716281673448\n"
          ]
        },
        {
          "output_type": "stream",
          "name": "stderr",
          "text": [
            "\n"
          ]
        },
        {
          "output_type": "stream",
          "name": "stdout",
          "text": [
            "Epoch ID: 45, 'the ave val loss': 15.706985422543116\n",
            "Starting epoch 47\n"
          ]
        },
        {
          "output_type": "stream",
          "name": "stderr",
          "text": [
            "100%|██████████| 352/352 [00:01<00:00, 217.83it/s]"
          ]
        },
        {
          "output_type": "stream",
          "name": "stdout",
          "text": [
            "Epoch ID: 46, 'the ave loss': 11.585147342517633\n"
          ]
        },
        {
          "output_type": "stream",
          "name": "stderr",
          "text": [
            "\n"
          ]
        },
        {
          "output_type": "stream",
          "name": "stdout",
          "text": [
            "Epoch ID: 46, 'the ave val loss': 15.71127186673028\n",
            "Starting epoch 48\n"
          ]
        },
        {
          "output_type": "stream",
          "name": "stderr",
          "text": [
            "100%|██████████| 352/352 [00:01<00:00, 217.12it/s]"
          ]
        },
        {
          "output_type": "stream",
          "name": "stdout",
          "text": [
            "Epoch ID: 47, 'the ave loss': 11.583698658653619\n"
          ]
        },
        {
          "output_type": "stream",
          "name": "stderr",
          "text": [
            "\n"
          ]
        },
        {
          "output_type": "stream",
          "name": "stdout",
          "text": [
            "Epoch ID: 47, 'the ave val loss': 15.713535693713597\n",
            "Starting epoch 49\n"
          ]
        },
        {
          "output_type": "stream",
          "name": "stderr",
          "text": [
            "100%|██████████| 352/352 [00:02<00:00, 170.97it/s]"
          ]
        },
        {
          "output_type": "stream",
          "name": "stdout",
          "text": [
            "Epoch ID: 48, 'the ave loss': 11.582147641022773\n"
          ]
        },
        {
          "output_type": "stream",
          "name": "stderr",
          "text": [
            "\n"
          ]
        },
        {
          "output_type": "stream",
          "name": "stdout",
          "text": [
            "Epoch ID: 48, 'the ave val loss': 15.71829457623618\n",
            "Starting epoch 50\n"
          ]
        },
        {
          "output_type": "stream",
          "name": "stderr",
          "text": [
            "100%|██████████| 352/352 [00:01<00:00, 186.31it/s]"
          ]
        },
        {
          "output_type": "stream",
          "name": "stdout",
          "text": [
            "Epoch ID: 49, 'the ave loss': 11.580711039841514\n"
          ]
        },
        {
          "output_type": "stream",
          "name": "stderr",
          "text": [
            "\n"
          ]
        },
        {
          "output_type": "stream",
          "name": "stdout",
          "text": [
            "Epoch ID: 49, 'the ave val loss': 15.72065121446337\n",
            "Starting epoch 51\n"
          ]
        },
        {
          "output_type": "stream",
          "name": "stderr",
          "text": [
            "100%|██████████| 352/352 [00:01<00:00, 213.02it/s]"
          ]
        },
        {
          "output_type": "stream",
          "name": "stdout",
          "text": [
            "Epoch ID: 50, 'the ave loss': 11.579225215002555\n"
          ]
        },
        {
          "output_type": "stream",
          "name": "stderr",
          "text": [
            "\n"
          ]
        },
        {
          "output_type": "stream",
          "name": "stdout",
          "text": [
            "Epoch ID: 50, 'the ave val loss': 15.724452454703195\n",
            "Starting epoch 52\n"
          ]
        },
        {
          "output_type": "stream",
          "name": "stderr",
          "text": [
            "100%|██████████| 352/352 [00:01<00:00, 208.20it/s]"
          ]
        },
        {
          "output_type": "stream",
          "name": "stdout",
          "text": [
            "Epoch ID: 51, 'the ave loss': 11.577785160392523\n"
          ]
        },
        {
          "output_type": "stream",
          "name": "stderr",
          "text": [
            "\n"
          ]
        },
        {
          "output_type": "stream",
          "name": "stdout",
          "text": [
            "Epoch ID: 51, 'the ave val loss': 15.729333194664546\n",
            "Starting epoch 53\n"
          ]
        },
        {
          "output_type": "stream",
          "name": "stderr",
          "text": [
            "100%|██████████| 352/352 [00:01<00:00, 220.78it/s]"
          ]
        },
        {
          "output_type": "stream",
          "name": "stdout",
          "text": [
            "Epoch ID: 52, 'the ave loss': 11.576388909354467\n"
          ]
        },
        {
          "output_type": "stream",
          "name": "stderr",
          "text": [
            "\n"
          ]
        },
        {
          "output_type": "stream",
          "name": "stdout",
          "text": [
            "Epoch ID: 52, 'the ave val loss': 15.731794290883201\n",
            "Starting epoch 54\n"
          ]
        },
        {
          "output_type": "stream",
          "name": "stderr",
          "text": [
            "100%|██████████| 352/352 [00:01<00:00, 219.28it/s]"
          ]
        },
        {
          "output_type": "stream",
          "name": "stdout",
          "text": [
            "Epoch ID: 53, 'the ave loss': 11.57499963176352\n"
          ]
        },
        {
          "output_type": "stream",
          "name": "stderr",
          "text": [
            "\n"
          ]
        },
        {
          "output_type": "stream",
          "name": "stdout",
          "text": [
            "Epoch ID: 53, 'the ave val loss': 15.735755125113895\n",
            "Starting epoch 55\n"
          ]
        },
        {
          "output_type": "stream",
          "name": "stderr",
          "text": [
            "100%|██████████| 352/352 [00:01<00:00, 199.87it/s]"
          ]
        },
        {
          "output_type": "stream",
          "name": "stdout",
          "text": [
            "Epoch ID: 54, 'the ave loss': 11.573626280169595\n"
          ]
        },
        {
          "output_type": "stream",
          "name": "stderr",
          "text": [
            "\n"
          ]
        },
        {
          "output_type": "stream",
          "name": "stdout",
          "text": [
            "Epoch ID: 54, 'the ave val loss': 15.739699918883188\n",
            "Starting epoch 56\n"
          ]
        },
        {
          "output_type": "stream",
          "name": "stderr",
          "text": [
            "100%|██████████| 352/352 [00:02<00:00, 165.55it/s]"
          ]
        },
        {
          "output_type": "stream",
          "name": "stdout",
          "text": [
            "Epoch ID: 55, 'the ave loss': 11.57228879770264\n"
          ]
        },
        {
          "output_type": "stream",
          "name": "stderr",
          "text": [
            "\n"
          ]
        },
        {
          "output_type": "stream",
          "name": "stdout",
          "text": [
            "Epoch ID: 55, 'the ave val loss': 15.743189789567674\n",
            "Starting epoch 57\n"
          ]
        },
        {
          "output_type": "stream",
          "name": "stderr",
          "text": [
            "100%|██████████| 352/352 [00:01<00:00, 217.75it/s]"
          ]
        },
        {
          "output_type": "stream",
          "name": "stdout",
          "text": [
            "Epoch ID: 56, 'the ave loss': 11.570958694739437\n"
          ]
        },
        {
          "output_type": "stream",
          "name": "stderr",
          "text": [
            "\n"
          ]
        },
        {
          "output_type": "stream",
          "name": "stdout",
          "text": [
            "Epoch ID: 56, 'the ave val loss': 15.74703631401062\n",
            "Starting epoch 58\n"
          ]
        },
        {
          "output_type": "stream",
          "name": "stderr",
          "text": [
            "100%|██████████| 352/352 [00:01<00:00, 218.45it/s]"
          ]
        },
        {
          "output_type": "stream",
          "name": "stdout",
          "text": [
            "Epoch ID: 57, 'the ave loss': 11.56965969164263\n"
          ]
        },
        {
          "output_type": "stream",
          "name": "stderr",
          "text": [
            "\n"
          ]
        },
        {
          "output_type": "stream",
          "name": "stdout",
          "text": [
            "Epoch ID: 57, 'the ave val loss': 15.750870779582433\n",
            "Starting epoch 59\n"
          ]
        },
        {
          "output_type": "stream",
          "name": "stderr",
          "text": [
            "100%|██████████| 352/352 [00:01<00:00, 215.11it/s]"
          ]
        },
        {
          "output_type": "stream",
          "name": "stdout",
          "text": [
            "Epoch ID: 58, 'the ave loss': 11.568385876164855\n"
          ]
        },
        {
          "output_type": "stream",
          "name": "stderr",
          "text": [
            "\n"
          ]
        },
        {
          "output_type": "stream",
          "name": "stdout",
          "text": [
            "Epoch ID: 58, 'the ave val loss': 15.754636922904423\n",
            "Starting epoch 60\n"
          ]
        },
        {
          "output_type": "stream",
          "name": "stderr",
          "text": [
            "100%|██████████| 352/352 [00:01<00:00, 217.63it/s]"
          ]
        },
        {
          "output_type": "stream",
          "name": "stdout",
          "text": [
            "Epoch ID: 59, 'the ave loss': 11.567132171285762\n"
          ]
        },
        {
          "output_type": "stream",
          "name": "stderr",
          "text": [
            "\n"
          ]
        },
        {
          "output_type": "stream",
          "name": "stdout",
          "text": [
            "Epoch ID: 59, 'the ave val loss': 15.758270665577479\n",
            "Starting epoch 61\n"
          ]
        },
        {
          "output_type": "stream",
          "name": "stderr",
          "text": [
            "100%|██████████| 352/352 [00:01<00:00, 209.62it/s]"
          ]
        },
        {
          "output_type": "stream",
          "name": "stdout",
          "text": [
            "Epoch ID: 60, 'the ave loss': 11.565902276641943\n"
          ]
        },
        {
          "output_type": "stream",
          "name": "stderr",
          "text": [
            "\n"
          ]
        },
        {
          "output_type": "stream",
          "name": "stdout",
          "text": [
            "Epoch ID: 60, 'the ave val loss': 15.761905295508248\n",
            "Starting epoch 62\n"
          ]
        },
        {
          "output_type": "stream",
          "name": "stderr",
          "text": [
            "100%|██████████| 352/352 [00:02<00:00, 171.13it/s]"
          ]
        },
        {
          "output_type": "stream",
          "name": "stdout",
          "text": [
            "Epoch ID: 61, 'the ave loss': 11.564679557415234\n"
          ]
        },
        {
          "output_type": "stream",
          "name": "stderr",
          "text": [
            "\n"
          ]
        },
        {
          "output_type": "stream",
          "name": "stdout",
          "text": [
            "Epoch ID: 61, 'the ave val loss': 15.765651507037026\n",
            "Starting epoch 63\n"
          ]
        },
        {
          "output_type": "stream",
          "name": "stderr",
          "text": [
            "100%|██████████| 352/352 [00:01<00:00, 184.37it/s]"
          ]
        },
        {
          "output_type": "stream",
          "name": "stdout",
          "text": [
            "Epoch ID: 62, 'the ave loss': 11.563485857141627\n"
          ]
        },
        {
          "output_type": "stream",
          "name": "stderr",
          "text": [
            "\n"
          ]
        },
        {
          "output_type": "stream",
          "name": "stdout",
          "text": [
            "Epoch ID: 62, 'the ave val loss': 15.769271404402597\n",
            "Starting epoch 64\n"
          ]
        },
        {
          "output_type": "stream",
          "name": "stderr",
          "text": [
            "100%|██████████| 352/352 [00:01<00:00, 212.91it/s]"
          ]
        },
        {
          "output_type": "stream",
          "name": "stdout",
          "text": [
            "Epoch ID: 63, 'the ave loss': 11.56230810352347\n"
          ]
        },
        {
          "output_type": "stream",
          "name": "stderr",
          "text": [
            "\n"
          ]
        },
        {
          "output_type": "stream",
          "name": "stdout",
          "text": [
            "Epoch ID: 63, 'the ave val loss': 15.772931950432914\n",
            "Starting epoch 65\n"
          ]
        },
        {
          "output_type": "stream",
          "name": "stderr",
          "text": [
            "100%|██████████| 352/352 [00:01<00:00, 212.45it/s]"
          ]
        },
        {
          "output_type": "stream",
          "name": "stdout",
          "text": [
            "Epoch ID: 64, 'the ave loss': 11.561149475334043\n"
          ]
        },
        {
          "output_type": "stream",
          "name": "stderr",
          "text": [
            "\n"
          ]
        },
        {
          "output_type": "stream",
          "name": "stdout",
          "text": [
            "Epoch ID: 64, 'the ave val loss': 15.77682158606393\n",
            "Starting epoch 66\n"
          ]
        },
        {
          "output_type": "stream",
          "name": "stderr",
          "text": [
            "100%|██████████| 352/352 [00:01<00:00, 211.10it/s]"
          ]
        },
        {
          "output_type": "stream",
          "name": "stdout",
          "text": [
            "Epoch ID: 65, 'the ave loss': 11.560013204728337\n"
          ]
        },
        {
          "output_type": "stream",
          "name": "stderr",
          "text": [
            "\n"
          ]
        },
        {
          "output_type": "stream",
          "name": "stdout",
          "text": [
            "Epoch ID: 65, 'the ave val loss': 15.780542521817344\n",
            "Starting epoch 67\n"
          ]
        },
        {
          "output_type": "stream",
          "name": "stderr",
          "text": [
            "100%|██████████| 352/352 [00:01<00:00, 209.30it/s]"
          ]
        },
        {
          "output_type": "stream",
          "name": "stdout",
          "text": [
            "Epoch ID: 66, 'the ave loss': 11.558878773061389\n"
          ]
        },
        {
          "output_type": "stream",
          "name": "stderr",
          "text": [
            "\n"
          ]
        },
        {
          "output_type": "stream",
          "name": "stdout",
          "text": [
            "Epoch ID: 66, 'the ave val loss': 15.784320196083614\n",
            "Starting epoch 68\n"
          ]
        },
        {
          "output_type": "stream",
          "name": "stderr",
          "text": [
            "100%|██████████| 352/352 [00:01<00:00, 195.41it/s]"
          ]
        },
        {
          "output_type": "stream",
          "name": "stdout",
          "text": [
            "Epoch ID: 67, 'the ave loss': 11.557771513958208\n"
          ]
        },
        {
          "output_type": "stream",
          "name": "stderr",
          "text": [
            "\n"
          ]
        },
        {
          "output_type": "stream",
          "name": "stdout",
          "text": [
            "Epoch ID: 67, 'the ave val loss': 15.788059037072317\n",
            "Starting epoch 69\n"
          ]
        },
        {
          "output_type": "stream",
          "name": "stderr",
          "text": [
            "100%|██████████| 352/352 [00:02<00:00, 161.37it/s]"
          ]
        },
        {
          "output_type": "stream",
          "name": "stdout",
          "text": [
            "Epoch ID: 68, 'the ave loss': 11.556678930128163\n"
          ]
        },
        {
          "output_type": "stream",
          "name": "stderr",
          "text": [
            "\n"
          ]
        },
        {
          "output_type": "stream",
          "name": "stdout",
          "text": [
            "Epoch ID: 68, 'the ave val loss': 15.791879279272896\n",
            "Starting epoch 70\n"
          ]
        },
        {
          "output_type": "stream",
          "name": "stderr",
          "text": [
            "100%|██████████| 352/352 [00:01<00:00, 218.80it/s]"
          ]
        },
        {
          "output_type": "stream",
          "name": "stdout",
          "text": [
            "Epoch ID: 69, 'the ave loss': 11.555624945724214\n"
          ]
        },
        {
          "output_type": "stream",
          "name": "stderr",
          "text": [
            "\n"
          ]
        },
        {
          "output_type": "stream",
          "name": "stdout",
          "text": [
            "Epoch ID: 69, 'the ave val loss': 15.795862410749708\n",
            "Starting epoch 71\n"
          ]
        },
        {
          "output_type": "stream",
          "name": "stderr",
          "text": [
            "100%|██████████| 352/352 [00:01<00:00, 215.01it/s]"
          ]
        },
        {
          "output_type": "stream",
          "name": "stdout",
          "text": [
            "Epoch ID: 70, 'the ave loss': 11.554563819557767\n"
          ]
        },
        {
          "output_type": "stream",
          "name": "stderr",
          "text": [
            "\n"
          ]
        },
        {
          "output_type": "stream",
          "name": "stdout",
          "text": [
            "Epoch ID: 70, 'the ave val loss': 15.79996291909899\n",
            "Starting epoch 72\n"
          ]
        },
        {
          "output_type": "stream",
          "name": "stderr",
          "text": [
            "100%|██████████| 352/352 [00:01<00:00, 215.43it/s]"
          ]
        },
        {
          "output_type": "stream",
          "name": "stdout",
          "text": [
            "Epoch ID: 71, 'the ave loss': 11.553494380660016\n"
          ]
        },
        {
          "output_type": "stream",
          "name": "stderr",
          "text": [
            "\n"
          ]
        },
        {
          "output_type": "stream",
          "name": "stdout",
          "text": [
            "Epoch ID: 71, 'the ave val loss': 15.803892738478524\n",
            "Starting epoch 73\n"
          ]
        },
        {
          "output_type": "stream",
          "name": "stderr",
          "text": [
            "100%|██████████| 352/352 [00:01<00:00, 216.96it/s]"
          ]
        },
        {
          "output_type": "stream",
          "name": "stdout",
          "text": [
            "Epoch ID: 72, 'the ave loss': 11.55246136252853\n"
          ]
        },
        {
          "output_type": "stream",
          "name": "stderr",
          "text": [
            "\n"
          ]
        },
        {
          "output_type": "stream",
          "name": "stdout",
          "text": [
            "Epoch ID: 72, 'the ave val loss': 15.807899648802621\n",
            "Starting epoch 74\n"
          ]
        },
        {
          "output_type": "stream",
          "name": "stderr",
          "text": [
            "100%|██████████| 352/352 [00:01<00:00, 218.18it/s]"
          ]
        },
        {
          "output_type": "stream",
          "name": "stdout",
          "text": [
            "Epoch ID: 73, 'the ave loss': 11.551455145447768\n"
          ]
        },
        {
          "output_type": "stream",
          "name": "stderr",
          "text": [
            "\n"
          ]
        },
        {
          "output_type": "stream",
          "name": "stdout",
          "text": [
            "Epoch ID: 73, 'the ave val loss': 15.812087512016296\n",
            "Starting epoch 75\n"
          ]
        },
        {
          "output_type": "stream",
          "name": "stderr",
          "text": [
            "100%|██████████| 352/352 [00:02<00:00, 171.43it/s]"
          ]
        },
        {
          "output_type": "stream",
          "name": "stdout",
          "text": [
            "Epoch ID: 74, 'the ave loss': 11.550346392164515\n"
          ]
        },
        {
          "output_type": "stream",
          "name": "stderr",
          "text": [
            "\n"
          ]
        },
        {
          "output_type": "stream",
          "name": "stdout",
          "text": [
            "Epoch ID: 74, 'the ave val loss': 15.816466646535057\n",
            "Starting epoch 76\n"
          ]
        },
        {
          "output_type": "stream",
          "name": "stderr",
          "text": [
            "100%|██████████| 352/352 [00:01<00:00, 183.02it/s]"
          ]
        },
        {
          "output_type": "stream",
          "name": "stdout",
          "text": [
            "Epoch ID: 75, 'the ave loss': 11.549427827015858\n"
          ]
        },
        {
          "output_type": "stream",
          "name": "stderr",
          "text": [
            "\n"
          ]
        },
        {
          "output_type": "stream",
          "name": "stdout",
          "text": [
            "Epoch ID: 75, 'the ave val loss': 15.819039685385567\n",
            "Starting epoch 77\n"
          ]
        },
        {
          "output_type": "stream",
          "name": "stderr",
          "text": [
            "100%|██████████| 352/352 [00:01<00:00, 215.83it/s]"
          ]
        },
        {
          "output_type": "stream",
          "name": "stdout",
          "text": [
            "Epoch ID: 76, 'the ave loss': 11.548427874053067\n"
          ]
        },
        {
          "output_type": "stream",
          "name": "stderr",
          "text": [
            "\n"
          ]
        },
        {
          "output_type": "stream",
          "name": "stdout",
          "text": [
            "Epoch ID: 76, 'the ave val loss': 15.822952202388219\n",
            "Starting epoch 78\n"
          ]
        },
        {
          "output_type": "stream",
          "name": "stderr",
          "text": [
            "100%|██████████| 352/352 [00:01<00:00, 217.95it/s]"
          ]
        },
        {
          "output_type": "stream",
          "name": "stdout",
          "text": [
            "Epoch ID: 77, 'the ave loss': 11.547498086128723\n"
          ]
        },
        {
          "output_type": "stream",
          "name": "stderr",
          "text": [
            "\n"
          ]
        },
        {
          "output_type": "stream",
          "name": "stdout",
          "text": [
            "Epoch ID: 77, 'the ave val loss': 15.82702465738569\n",
            "Starting epoch 79\n"
          ]
        },
        {
          "output_type": "stream",
          "name": "stderr",
          "text": [
            "100%|██████████| 352/352 [00:01<00:00, 216.41it/s]"
          ]
        },
        {
          "output_type": "stream",
          "name": "stdout",
          "text": [
            "Epoch ID: 78, 'the ave loss': 11.546417283232916\n"
          ]
        },
        {
          "output_type": "stream",
          "name": "stderr",
          "text": [
            "\n"
          ]
        },
        {
          "output_type": "stream",
          "name": "stdout",
          "text": [
            "Epoch ID: 78, 'the ave val loss': 15.831366905144282\n",
            "Starting epoch 80\n"
          ]
        },
        {
          "output_type": "stream",
          "name": "stderr",
          "text": [
            "100%|██████████| 352/352 [00:01<00:00, 221.78it/s]"
          ]
        },
        {
          "output_type": "stream",
          "name": "stdout",
          "text": [
            "Epoch ID: 79, 'the ave loss': 11.545562336686999\n"
          ]
        },
        {
          "output_type": "stream",
          "name": "stderr",
          "text": [
            "\n"
          ]
        },
        {
          "output_type": "stream",
          "name": "stdout",
          "text": [
            "Epoch ID: 79, 'the ave val loss': 15.833864097935813\n",
            "Starting epoch 81\n"
          ]
        },
        {
          "output_type": "stream",
          "name": "stderr",
          "text": [
            "100%|██████████| 352/352 [00:01<00:00, 198.73it/s]"
          ]
        },
        {
          "output_type": "stream",
          "name": "stdout",
          "text": [
            "Epoch ID: 80, 'the ave loss': 11.54460914246738\n"
          ]
        },
        {
          "output_type": "stream",
          "name": "stderr",
          "text": [
            "\n"
          ]
        },
        {
          "output_type": "stream",
          "name": "stdout",
          "text": [
            "Epoch ID: 80, 'the ave val loss': 15.837874698638917\n",
            "Starting epoch 82\n"
          ]
        },
        {
          "output_type": "stream",
          "name": "stderr",
          "text": [
            "100%|██████████| 352/352 [00:02<00:00, 162.40it/s]"
          ]
        },
        {
          "output_type": "stream",
          "name": "stdout",
          "text": [
            "Epoch ID: 81, 'the ave loss': 11.543676146771759\n"
          ]
        },
        {
          "output_type": "stream",
          "name": "stderr",
          "text": [
            "\n"
          ]
        },
        {
          "output_type": "stream",
          "name": "stdout",
          "text": [
            "Epoch ID: 81, 'the ave val loss': 15.841622524602073\n",
            "Starting epoch 83\n"
          ]
        },
        {
          "output_type": "stream",
          "name": "stderr",
          "text": [
            "100%|██████████| 352/352 [00:01<00:00, 214.45it/s]"
          ]
        },
        {
          "output_type": "stream",
          "name": "stdout",
          "text": [
            "Epoch ID: 82, 'the ave loss': 11.542780274990946\n"
          ]
        },
        {
          "output_type": "stream",
          "name": "stderr",
          "text": [
            "\n"
          ]
        },
        {
          "output_type": "stream",
          "name": "stdout",
          "text": [
            "Epoch ID: 82, 'the ave val loss': 15.8461170230593\n",
            "Starting epoch 84\n"
          ]
        },
        {
          "output_type": "stream",
          "name": "stderr",
          "text": [
            "100%|██████████| 352/352 [00:01<00:00, 212.95it/s]"
          ]
        },
        {
          "output_type": "stream",
          "name": "stdout",
          "text": [
            "Epoch ID: 83, 'the ave loss': 11.541876108173959\n"
          ]
        },
        {
          "output_type": "stream",
          "name": "stderr",
          "text": [
            "\n"
          ]
        },
        {
          "output_type": "stream",
          "name": "stdout",
          "text": [
            "Epoch ID: 83, 'the ave val loss': 15.849008747509547\n",
            "Starting epoch 85\n"
          ]
        },
        {
          "output_type": "stream",
          "name": "stderr",
          "text": [
            "100%|██████████| 352/352 [00:01<00:00, 217.57it/s]"
          ]
        },
        {
          "output_type": "stream",
          "name": "stdout",
          "text": [
            "Epoch ID: 84, 'the ave loss': 11.540974667761475\n"
          ]
        },
        {
          "output_type": "stream",
          "name": "stderr",
          "text": [
            "\n"
          ]
        },
        {
          "output_type": "stream",
          "name": "stdout",
          "text": [
            "Epoch ID: 84, 'the ave val loss': 15.852769316945757\n",
            "Starting epoch 86\n"
          ]
        },
        {
          "output_type": "stream",
          "name": "stderr",
          "text": [
            "100%|██████████| 352/352 [00:01<00:00, 216.61it/s]"
          ]
        },
        {
          "output_type": "stream",
          "name": "stdout",
          "text": [
            "Epoch ID: 85, 'the ave loss': 11.54009021463042\n"
          ]
        },
        {
          "output_type": "stream",
          "name": "stderr",
          "text": [
            "\n"
          ]
        },
        {
          "output_type": "stream",
          "name": "stdout",
          "text": [
            "Epoch ID: 85, 'the ave val loss': 15.856526824406215\n",
            "Starting epoch 87\n"
          ]
        },
        {
          "output_type": "stream",
          "name": "stderr",
          "text": [
            "100%|██████████| 352/352 [00:01<00:00, 215.26it/s]"
          ]
        },
        {
          "output_type": "stream",
          "name": "stdout",
          "text": [
            "Epoch ID: 86, 'the ave loss': 11.539235602090644\n"
          ]
        },
        {
          "output_type": "stream",
          "name": "stderr",
          "text": [
            "\n"
          ]
        },
        {
          "output_type": "stream",
          "name": "stdout",
          "text": [
            "Epoch ID: 86, 'the ave val loss': 15.86088319676263\n",
            "Starting epoch 88\n"
          ]
        },
        {
          "output_type": "stream",
          "name": "stderr",
          "text": [
            "100%|██████████| 352/352 [00:02<00:00, 174.19it/s]"
          ]
        },
        {
          "output_type": "stream",
          "name": "stdout",
          "text": [
            "Epoch ID: 87, 'the ave loss': 11.538366429507732\n"
          ]
        },
        {
          "output_type": "stream",
          "name": "stderr",
          "text": [
            "\n"
          ]
        },
        {
          "output_type": "stream",
          "name": "stdout",
          "text": [
            "Epoch ID: 87, 'the ave val loss': 15.863740231309619\n",
            "Starting epoch 89\n"
          ]
        },
        {
          "output_type": "stream",
          "name": "stderr",
          "text": [
            "100%|██████████| 352/352 [00:01<00:00, 181.51it/s]"
          ]
        },
        {
          "output_type": "stream",
          "name": "stdout",
          "text": [
            "Epoch ID: 88, 'the ave loss': 11.537500847512009\n"
          ]
        },
        {
          "output_type": "stream",
          "name": "stderr",
          "text": [
            "\n"
          ]
        },
        {
          "output_type": "stream",
          "name": "stdout",
          "text": [
            "Epoch ID: 88, 'the ave val loss': 15.867379433768136\n",
            "Starting epoch 90\n"
          ]
        },
        {
          "output_type": "stream",
          "name": "stderr",
          "text": [
            "100%|██████████| 352/352 [00:01<00:00, 212.22it/s]"
          ]
        },
        {
          "output_type": "stream",
          "name": "stdout",
          "text": [
            "Epoch ID: 89, 'the ave loss': 11.536665512841534\n"
          ]
        },
        {
          "output_type": "stream",
          "name": "stderr",
          "text": [
            "\n"
          ]
        },
        {
          "output_type": "stream",
          "name": "stdout",
          "text": [
            "Epoch ID: 89, 'the ave val loss': 15.870923050812312\n",
            "Starting epoch 91\n"
          ]
        },
        {
          "output_type": "stream",
          "name": "stderr",
          "text": [
            "100%|██████████| 352/352 [00:01<00:00, 218.81it/s]"
          ]
        },
        {
          "output_type": "stream",
          "name": "stdout",
          "text": [
            "Epoch ID: 90, 'the ave loss': 11.535827233159745\n"
          ]
        },
        {
          "output_type": "stream",
          "name": "stderr",
          "text": [
            "\n"
          ]
        },
        {
          "output_type": "stream",
          "name": "stdout",
          "text": [
            "Epoch ID: 90, 'the ave val loss': 15.874558169501169\n",
            "Starting epoch 92\n"
          ]
        },
        {
          "output_type": "stream",
          "name": "stderr",
          "text": [
            "100%|██████████| 352/352 [00:01<00:00, 220.01it/s]"
          ]
        },
        {
          "output_type": "stream",
          "name": "stdout",
          "text": [
            "Epoch ID: 91, 'the ave loss': 11.535006025594406\n"
          ]
        },
        {
          "output_type": "stream",
          "name": "stderr",
          "text": [
            "\n"
          ]
        },
        {
          "output_type": "stream",
          "name": "stdout",
          "text": [
            "Epoch ID: 91, 'the ave val loss': 15.878123612063272\n",
            "Starting epoch 93\n"
          ]
        },
        {
          "output_type": "stream",
          "name": "stderr",
          "text": [
            " 68%|██████▊   | 241/352 [00:01<00:00, 218.52it/s]\n"
          ]
        },
        {
          "output_type": "error",
          "ename": "KeyboardInterrupt",
          "evalue": "ignored",
          "traceback": [
            "\u001b[0;31m---------------------------------------------------------------------------\u001b[0m",
            "\u001b[0;31mKeyboardInterrupt\u001b[0m                         Traceback (most recent call last)",
            "\u001b[0;32m<ipython-input-38-d7bdc04692ac>\u001b[0m in \u001b[0;36m<cell line: 1>\u001b[0;34m()\u001b[0m\n\u001b[1;32m     39\u001b[0m                 \u001b[0mlabels\u001b[0m \u001b[0;34m=\u001b[0m \u001b[0mlabels\u001b[0m\u001b[0;34m.\u001b[0m\u001b[0mto\u001b[0m\u001b[0;34m(\u001b[0m\u001b[0mdevice\u001b[0m\u001b[0;34m)\u001b[0m\u001b[0;34m\u001b[0m\u001b[0;34m\u001b[0m\u001b[0m\n\u001b[1;32m     40\u001b[0m                 \u001b[0moptimizer\u001b[0m\u001b[0;34m.\u001b[0m\u001b[0mzero_grad\u001b[0m\u001b[0;34m(\u001b[0m\u001b[0;34m)\u001b[0m\u001b[0;34m\u001b[0m\u001b[0;34m\u001b[0m\u001b[0m\n\u001b[0;32m---> 41\u001b[0;31m                 \u001b[0moutputs\u001b[0m \u001b[0;34m=\u001b[0m \u001b[0mmodel\u001b[0m\u001b[0;34m(\u001b[0m\u001b[0minputs\u001b[0m\u001b[0;34m)\u001b[0m\u001b[0;34m\u001b[0m\u001b[0;34m\u001b[0m\u001b[0m\n\u001b[0m\u001b[1;32m     42\u001b[0m \u001b[0;34m\u001b[0m\u001b[0m\n\u001b[1;32m     43\u001b[0m                 \u001b[0mloss\u001b[0m \u001b[0;34m=\u001b[0m \u001b[0mcriterion\u001b[0m\u001b[0;34m(\u001b[0m\u001b[0moutputs\u001b[0m\u001b[0;34m,\u001b[0m \u001b[0mlabels\u001b[0m\u001b[0;34m)\u001b[0m\u001b[0;34m\u001b[0m\u001b[0;34m\u001b[0m\u001b[0m\n",
            "\u001b[0;32m/usr/local/lib/python3.9/dist-packages/torch/nn/modules/module.py\u001b[0m in \u001b[0;36m_call_impl\u001b[0;34m(self, *args, **kwargs)\u001b[0m\n\u001b[1;32m   1499\u001b[0m                 \u001b[0;32mor\u001b[0m \u001b[0m_global_backward_pre_hooks\u001b[0m \u001b[0;32mor\u001b[0m \u001b[0m_global_backward_hooks\u001b[0m\u001b[0;34m\u001b[0m\u001b[0;34m\u001b[0m\u001b[0m\n\u001b[1;32m   1500\u001b[0m                 or _global_forward_hooks or _global_forward_pre_hooks):\n\u001b[0;32m-> 1501\u001b[0;31m             \u001b[0;32mreturn\u001b[0m \u001b[0mforward_call\u001b[0m\u001b[0;34m(\u001b[0m\u001b[0;34m*\u001b[0m\u001b[0margs\u001b[0m\u001b[0;34m,\u001b[0m \u001b[0;34m**\u001b[0m\u001b[0mkwargs\u001b[0m\u001b[0;34m)\u001b[0m\u001b[0;34m\u001b[0m\u001b[0;34m\u001b[0m\u001b[0m\n\u001b[0m\u001b[1;32m   1502\u001b[0m         \u001b[0;31m# Do not call functions when jit is used\u001b[0m\u001b[0;34m\u001b[0m\u001b[0;34m\u001b[0m\u001b[0m\n\u001b[1;32m   1503\u001b[0m         \u001b[0mfull_backward_hooks\u001b[0m\u001b[0;34m,\u001b[0m \u001b[0mnon_full_backward_hooks\u001b[0m \u001b[0;34m=\u001b[0m \u001b[0;34m[\u001b[0m\u001b[0;34m]\u001b[0m\u001b[0;34m,\u001b[0m \u001b[0;34m[\u001b[0m\u001b[0;34m]\u001b[0m\u001b[0;34m\u001b[0m\u001b[0;34m\u001b[0m\u001b[0m\n",
            "\u001b[0;32m<ipython-input-3-652b64d663d8>\u001b[0m in \u001b[0;36mforward\u001b[0;34m(self, x)\u001b[0m\n\u001b[1;32m     53\u001b[0m         \u001b[0;31m# x = self.batchnorm1(x)\u001b[0m\u001b[0;34m\u001b[0m\u001b[0;34m\u001b[0m\u001b[0m\n\u001b[1;32m     54\u001b[0m         \u001b[0mx\u001b[0m \u001b[0;34m=\u001b[0m \u001b[0mself\u001b[0m\u001b[0;34m.\u001b[0m\u001b[0mconv2\u001b[0m\u001b[0;34m(\u001b[0m\u001b[0mx\u001b[0m\u001b[0;34m)\u001b[0m\u001b[0;34m\u001b[0m\u001b[0;34m\u001b[0m\u001b[0m\n\u001b[0;32m---> 55\u001b[0;31m         \u001b[0mx\u001b[0m \u001b[0;34m=\u001b[0m \u001b[0mself\u001b[0m\u001b[0;34m.\u001b[0m\u001b[0mrelu\u001b[0m\u001b[0;34m(\u001b[0m\u001b[0mx\u001b[0m\u001b[0;34m)\u001b[0m\u001b[0;34m\u001b[0m\u001b[0;34m\u001b[0m\u001b[0m\n\u001b[0m\u001b[1;32m     56\u001b[0m         \u001b[0mx\u001b[0m \u001b[0;34m=\u001b[0m \u001b[0mself\u001b[0m\u001b[0;34m.\u001b[0m\u001b[0mdropout2\u001b[0m\u001b[0;34m(\u001b[0m\u001b[0mx\u001b[0m\u001b[0;34m)\u001b[0m\u001b[0;34m\u001b[0m\u001b[0;34m\u001b[0m\u001b[0m\n\u001b[1;32m     57\u001b[0m         \u001b[0mx\u001b[0m \u001b[0;34m=\u001b[0m \u001b[0mself\u001b[0m\u001b[0;34m.\u001b[0m\u001b[0mmaxpool\u001b[0m\u001b[0;34m(\u001b[0m\u001b[0mx\u001b[0m\u001b[0;34m)\u001b[0m\u001b[0;34m\u001b[0m\u001b[0;34m\u001b[0m\u001b[0m\n",
            "\u001b[0;32m/usr/local/lib/python3.9/dist-packages/torch/nn/modules/module.py\u001b[0m in \u001b[0;36m_call_impl\u001b[0;34m(self, *args, **kwargs)\u001b[0m\n\u001b[1;32m   1499\u001b[0m                 \u001b[0;32mor\u001b[0m \u001b[0m_global_backward_pre_hooks\u001b[0m \u001b[0;32mor\u001b[0m \u001b[0m_global_backward_hooks\u001b[0m\u001b[0;34m\u001b[0m\u001b[0;34m\u001b[0m\u001b[0m\n\u001b[1;32m   1500\u001b[0m                 or _global_forward_hooks or _global_forward_pre_hooks):\n\u001b[0;32m-> 1501\u001b[0;31m             \u001b[0;32mreturn\u001b[0m \u001b[0mforward_call\u001b[0m\u001b[0;34m(\u001b[0m\u001b[0;34m*\u001b[0m\u001b[0margs\u001b[0m\u001b[0;34m,\u001b[0m \u001b[0;34m**\u001b[0m\u001b[0mkwargs\u001b[0m\u001b[0;34m)\u001b[0m\u001b[0;34m\u001b[0m\u001b[0;34m\u001b[0m\u001b[0m\n\u001b[0m\u001b[1;32m   1502\u001b[0m         \u001b[0;31m# Do not call functions when jit is used\u001b[0m\u001b[0;34m\u001b[0m\u001b[0;34m\u001b[0m\u001b[0m\n\u001b[1;32m   1503\u001b[0m         \u001b[0mfull_backward_hooks\u001b[0m\u001b[0;34m,\u001b[0m \u001b[0mnon_full_backward_hooks\u001b[0m \u001b[0;34m=\u001b[0m \u001b[0;34m[\u001b[0m\u001b[0;34m]\u001b[0m\u001b[0;34m,\u001b[0m \u001b[0;34m[\u001b[0m\u001b[0;34m]\u001b[0m\u001b[0;34m\u001b[0m\u001b[0;34m\u001b[0m\u001b[0m\n",
            "\u001b[0;32m/usr/local/lib/python3.9/dist-packages/torch/nn/modules/activation.py\u001b[0m in \u001b[0;36mforward\u001b[0;34m(self, input)\u001b[0m\n\u001b[1;32m    101\u001b[0m \u001b[0;34m\u001b[0m\u001b[0m\n\u001b[1;32m    102\u001b[0m     \u001b[0;32mdef\u001b[0m \u001b[0mforward\u001b[0m\u001b[0;34m(\u001b[0m\u001b[0mself\u001b[0m\u001b[0;34m,\u001b[0m \u001b[0minput\u001b[0m\u001b[0;34m:\u001b[0m \u001b[0mTensor\u001b[0m\u001b[0;34m)\u001b[0m \u001b[0;34m->\u001b[0m \u001b[0mTensor\u001b[0m\u001b[0;34m:\u001b[0m\u001b[0;34m\u001b[0m\u001b[0;34m\u001b[0m\u001b[0m\n\u001b[0;32m--> 103\u001b[0;31m         \u001b[0;32mreturn\u001b[0m \u001b[0mF\u001b[0m\u001b[0;34m.\u001b[0m\u001b[0mrelu\u001b[0m\u001b[0;34m(\u001b[0m\u001b[0minput\u001b[0m\u001b[0;34m,\u001b[0m \u001b[0minplace\u001b[0m\u001b[0;34m=\u001b[0m\u001b[0mself\u001b[0m\u001b[0;34m.\u001b[0m\u001b[0minplace\u001b[0m\u001b[0;34m)\u001b[0m\u001b[0;34m\u001b[0m\u001b[0;34m\u001b[0m\u001b[0m\n\u001b[0m\u001b[1;32m    104\u001b[0m \u001b[0;34m\u001b[0m\u001b[0m\n\u001b[1;32m    105\u001b[0m     \u001b[0;32mdef\u001b[0m \u001b[0mextra_repr\u001b[0m\u001b[0;34m(\u001b[0m\u001b[0mself\u001b[0m\u001b[0;34m)\u001b[0m \u001b[0;34m->\u001b[0m \u001b[0mstr\u001b[0m\u001b[0;34m:\u001b[0m\u001b[0;34m\u001b[0m\u001b[0;34m\u001b[0m\u001b[0m\n",
            "\u001b[0;32m/usr/local/lib/python3.9/dist-packages/torch/nn/functional.py\u001b[0m in \u001b[0;36mrelu\u001b[0;34m(input, inplace)\u001b[0m\n\u001b[1;32m   1455\u001b[0m         \u001b[0mresult\u001b[0m \u001b[0;34m=\u001b[0m \u001b[0mtorch\u001b[0m\u001b[0;34m.\u001b[0m\u001b[0mrelu_\u001b[0m\u001b[0;34m(\u001b[0m\u001b[0minput\u001b[0m\u001b[0;34m)\u001b[0m\u001b[0;34m\u001b[0m\u001b[0;34m\u001b[0m\u001b[0m\n\u001b[1;32m   1456\u001b[0m     \u001b[0;32melse\u001b[0m\u001b[0;34m:\u001b[0m\u001b[0;34m\u001b[0m\u001b[0;34m\u001b[0m\u001b[0m\n\u001b[0;32m-> 1457\u001b[0;31m         \u001b[0mresult\u001b[0m \u001b[0;34m=\u001b[0m \u001b[0mtorch\u001b[0m\u001b[0;34m.\u001b[0m\u001b[0mrelu\u001b[0m\u001b[0;34m(\u001b[0m\u001b[0minput\u001b[0m\u001b[0;34m)\u001b[0m\u001b[0;34m\u001b[0m\u001b[0;34m\u001b[0m\u001b[0m\n\u001b[0m\u001b[1;32m   1458\u001b[0m     \u001b[0;32mreturn\u001b[0m \u001b[0mresult\u001b[0m\u001b[0;34m\u001b[0m\u001b[0;34m\u001b[0m\u001b[0m\n\u001b[1;32m   1459\u001b[0m \u001b[0;34m\u001b[0m\u001b[0m\n",
            "\u001b[0;31mKeyboardInterrupt\u001b[0m: "
          ]
        }
      ]
    },
    {
      "cell_type": "code",
      "source": [
        "import random\n",
        "checkpointFile = \"/content/drive/MyDrive/Convolution_best_model\"\n",
        "\n",
        "# If using GPU, we need the following line.\n",
        "model.to(device)\n",
        "\n",
        "model.load_state_dict(torch.load(f\"{checkpointFile}.pth\"))\n",
        "\n",
        "\n",
        "generatingLoader = DataLoader(valset, batch_size=1, shuffle=True)\n",
        "\n",
        "\n",
        "# Get one data point from the DataLoader\n",
        "data_point, true = next(iter(generatingLoader))\n",
        "data_point = data_point.to(device)\n",
        "print(data_point)\n",
        "print(true)\n",
        "model.eval()\n",
        "torch.no_grad()\n",
        "print(model(data_point))"
      ],
      "metadata": {
        "id": "CBuoY8J3dWwJ",
        "colab": {
          "base_uri": "https://localhost:8080/"
        },
        "outputId": "3b3423e5-58a7-45b6-fda3-1f085c0d69d0"
      },
      "execution_count": null,
      "outputs": [
        {
          "output_type": "stream",
          "name": "stdout",
          "text": [
            "tensor([[[[4710.2998, 4642.9902, 4636.4600, 4719.1299, 4652.5000, 4587.8999,\n",
            "           4594.9600, 4650.3599, 4703.9600, 4733.9902, 4795.4902, 4788.6401,\n",
            "           4794.2300, 4775.2100, 4778.1401, 4804.5098, 4787.9902, 4693.3901,\n",
            "           4697.6602, 4655.3398, 4669.1401, 4728.5898, 4733.5601, 4637.9902,\n",
            "           4632.2402, 4588.0298, 4547.3501, 4471.3799, 4356.3198, 4366.6401,\n",
            "           4408.4302, 4380.5801, 4336.1899, 4431.7900, 4519.5698, 4566.3901,\n",
            "           4535.4102, 4482.7900, 4505.7500, 4480.0200, 4547.0000, 4553.2402,\n",
            "           4506.2700, 4412.6099, 4429.2798, 4455.7500, 4456.0601, 4384.5698,\n",
            "           4332.7402, 4324.9302, 4155.7700, 4298.3799, 4354.1699, 4363.1401,\n",
            "           4322.5601, 4401.3101, 4342.1201, 4327.0098, 4202.6602, 4223.1001,\n",
            "           4252.5498, 4279.5000, 4202.7500]],\n",
            "\n",
            "         [[ 114.5100,  114.4600,  114.2300,  114.2600,  114.5500,  114.5700,\n",
            "            114.0700,  114.3300,  114.2900,  114.1500,  114.4300,  113.9900,\n",
            "            113.9900,  114.1500,  113.6700,  113.2200,  113.3400,  112.7500,\n",
            "            112.6900,  112.2300,  112.3300,  112.7200,  112.6000,  112.5300,\n",
            "            111.8100,  111.7000,  111.8400,  112.1900,  112.3800,  112.1800,\n",
            "            112.0600,  111.6200,  111.4600,  111.6400,  111.6600,  111.7000,\n",
            "            111.2600,  110.7500,  110.5700,  110.4400,  110.5100,  109.9700,\n",
            "            109.7400,  109.6600,  109.3600,  109.4400,  109.5800,  109.8300,\n",
            "            109.6800,  109.5200,  109.6700,  109.4500,  110.0300,  110.6000,\n",
            "            110.3000,  109.7900,  110.4000,  109.8700,  109.2500,  109.1000,\n",
            "            108.6600,  108.4400,  107.7900]]]], device='cuda:0')\n",
            "tensor([[ 5.5878, -2.7739]])\n",
            "tensor([[ 1.7871, -0.0254]], device='cuda:0', grad_fn=<AddmmBackward0>)\n"
          ]
        }
      ]
    },
    {
      "cell_type": "code",
      "source": [
        "\n"
      ],
      "metadata": {
        "id": "YzYhq6MLzKH_"
      },
      "execution_count": null,
      "outputs": []
    }
  ]
}