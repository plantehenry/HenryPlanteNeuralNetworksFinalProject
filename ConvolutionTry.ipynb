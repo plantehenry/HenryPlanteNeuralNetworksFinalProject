{
  "nbformat": 4,
  "nbformat_minor": 0,
  "metadata": {
    "colab": {
      "provenance": [],
      "include_colab_link": true
    },
    "kernelspec": {
      "name": "python3",
      "display_name": "Python 3"
    },
    "language_info": {
      "name": "python"
    },
    "accelerator": "GPU",
    "gpuClass": "standard"
  },
  "cells": [
    {
      "cell_type": "markdown",
      "metadata": {
        "id": "view-in-github",
        "colab_type": "text"
      },
      "source": [
        "<a href=\"https://colab.research.google.com/github/plantehenry/NeuralNetworksFinalProject/blob/main/ConvolutionTry.ipynb\" target=\"_parent\"><img src=\"https://colab.research.google.com/assets/colab-badge.svg\" alt=\"Open In Colab\"/></a>"
      ]
    },
    {
      "cell_type": "code",
      "source": [
        "import os\n",
        "os.environ['CUDA_LAUNCH_BLOCKING'] = \"1\"\n",
        "\n",
        "import torch\n",
        "import torchvision\n",
        "import torch.nn as nn\n",
        "import torchvision.transforms as transforms\n",
        "from torchvision.datasets import CIFAR100, CIFAR10\n",
        "from torch.utils.data import DataLoader, Dataset, random_split\n",
        "from torchvision.transforms.functional import resize\n",
        "from torchvision.transforms import CenterCrop\n",
        "from torchvision.transforms import ToTensor\n",
        "from torchvision.io import read_image\n",
        "from torchsummary import summary\n",
        "from tqdm import tqdm\n",
        "import numpy as np\n",
        "import pandas as pd"
      ],
      "metadata": {
        "id": "nfCs7DH7ex1L"
      },
      "execution_count": null,
      "outputs": []
    },
    {
      "cell_type": "code",
      "source": [
        "from google.colab import drive\n",
        "drive.mount('/content/drive')"
      ],
      "metadata": {
        "id": "PgNzdFYEpg_S",
        "colab": {
          "base_uri": "https://localhost:8080/"
        },
        "outputId": "bc8a1ed8-f31a-4a39-affc-e946c96071bf"
      },
      "execution_count": null,
      "outputs": [
        {
          "output_type": "stream",
          "name": "stdout",
          "text": [
            "Mounted at /content/drive\n"
          ]
        }
      ]
    },
    {
      "cell_type": "markdown",
      "source": [
        "### Define Network"
      ],
      "metadata": {
        "id": "pSjILg0Se0_M"
      }
    },
    {
      "cell_type": "code",
      "source": [
        "class CNN(nn.Module):\n",
        "\n",
        "    def __init__(self, numChannels):\n",
        "        super(CNN, self).__init__()\n",
        "        # try conv 1d \n",
        "        #back to 5 layers\n",
        "        # Convolutional layers:\n",
        "        self.conv1 = nn.Conv1d(in_channels = numChannels, out_channels = 25, kernel_size = 7, stride = 1)\n",
        "        self.conv2 = nn.Conv1d(in_channels = 25, out_channels = 50, kernel_size = 5, stride = 1)\n",
        "        self.conv3 = nn.Conv1d(in_channels = 50, out_channels = 75, kernel_size = 3, stride = 1)\n",
        "        self.conv4 = nn.Conv1d(in_channels = 75, out_channels = 100, kernel_size = 3, stride = 1)\n",
        "        self.conv5 = nn.Conv1d(in_channels = 100, out_channels = 150, kernel_size = 3, stride = 1)\n",
        "\n",
        "        self.relu = nn.ReLU()\n",
        "        self.tanh = nn.Tanh()\n",
        "        self.sigmoid = nn.Sigmoid()\n",
        "\n",
        "        self.maxpool = nn.MaxPool2d(kernel_size = (1,2), stride = (1,2))\n",
        "\n",
        "        # Batch normalization layers:\n",
        "        self.batchnorm1 = nn.BatchNorm2d(num_features = 30)\n",
        "        self.batchnorm2 = nn.BatchNorm2d(num_features = 50)\n",
        "\n",
        "        #BACK TO 2 OR 3 FULLY CONNECTED LAYER\n",
        "        # Fully-connected layers:\n",
        "        #ue sigmoid for all fully connecetd layers \n",
        "        # or tanh in first two and last one sigmoid\n",
        "        self.fc1 = nn.Linear(in_features = 150, out_features= 75)\n",
        "        self.fc2 = nn.Linear(in_features = 75, out_features= 50)\n",
        "        self.fc3 = nn.Linear(in_features = 50, out_features= 3)\n",
        "\n",
        "        #no dropout ot batchnorm initially\n",
        "        # try with droput last\n",
        "        self.dropout1 = nn.Dropout2d(p = args.dropoutRate)\n",
        "        self.dropout2 = nn.Dropout2d(p = args.dropoutRate)\n",
        "        self.dropout3 = nn.Dropout2d(p = args.dropoutRate)\n",
        "        self.dropout4 = nn.Dropout(p = args.dropoutRate)\n",
        "\n",
        "    # Evaluation function\n",
        "    def evaluate(self, model, dataloader, device):\n",
        "        model.eval()\n",
        "        running_loss = 0.0\n",
        "        criterion = nn.MSELoss()  \n",
        "        for data in dataloader:\n",
        "                inputs, true = data\n",
        "                inputs = inputs.to(device)\n",
        "                true = true.to(device)\n",
        "                outputs = model(inputs)\n",
        "\n",
        "                loss = criterion(outputs, true)\n",
        "\n",
        "                loss = loss.detach().cpu().numpy()\n",
        "                running_loss += loss\n",
        "        return(running_loss/ dataloader.__len__())\n",
        "\n",
        "\n",
        "    def forward(self, x):\n",
        "        x = self.conv1(x)\n",
        "        x = self.relu(x)\n",
        "        # x = self.dropout1(x)\n",
        "        x = self.maxpool(x)\n",
        "        # x = self.batchnorm1(x)\n",
        "        x = self.conv2(x)\n",
        "        x = self.relu(x)\n",
        "        # x = self.dropout2(x)\n",
        "        x = self.maxpool(x)\n",
        "        # x = self.batchnorm2(x)\n",
        "        x = self.conv3(x)\n",
        "        x = self.relu(x)\n",
        "        x = self.maxpool(x)\n",
        "        # x = self.dropout3(x)\n",
        "        x = self.conv4(x)\n",
        "        x = self.relu(x)\n",
        "        # x = self.maxpool(x)\n",
        "        x = self.conv5(x)\n",
        "        x = self.relu(x)\n",
        "        # x = self.maxpool(x)\n",
        "        x = torch.flatten(x, 1)\n",
        "\n",
        "        \n",
        "        x = self.fc1(x)\n",
        "        x = self.tanh(x)\n",
        "        x = self.fc2(x)\n",
        "        x = self.tanh(x)\n",
        "        x = self.fc3(x)\n",
        "        x = self.sigmoid(x)\n",
        "        # outmap_min, _ = torch.min(x, dim=1, keepdim=True)\n",
        "        # outmap_max, _ = torch.max(x, dim=1, keepdim=True)\n",
        "        # x = (x - outmap_min) / (outmap_max - outmap_min)\n",
        "\n",
        "\n",
        "        return x"
      ],
      "metadata": {
        "id": "bU3lPzXCXOpj"
      },
      "execution_count": null,
      "outputs": []
    },
    {
      "cell_type": "markdown",
      "source": [
        "### Data Loaders"
      ],
      "metadata": {
        "id": "RyhmhjrG4Qt9"
      }
    },
    {
      "cell_type": "code",
      "source": [
        "import argparse\n",
        "from torch.utils.data.dataloader import default_collate\n",
        "import csv\n",
        "\n",
        "\n",
        "class TrainData(torch.utils.data.Dataset):\n",
        "    def __init__(self,args):\n",
        "        self.args = args\n",
        "        self.input_sequence , self.output_sequence = self.loadData()\n",
        "    ## working on giving more than one sequence\n",
        "    def loadData(self):\n",
        "        # Read the text\n",
        "        input_sequence = []\n",
        "        with open(f\"{self.args.workingDir}/{self.args.inputFile}.csv\", newline='') as csvfile:\n",
        "          spamreader = csv.reader(csvfile, delimiter=',', quotechar='|')\n",
        "          spamreader.__next__()\n",
        "          for row in spamreader:\n",
        "              new_row = []\n",
        "              \n",
        "              # wrap each value in row in an array\n",
        "              for val in row:\n",
        "                new_row.append([float(val)])\n",
        "\n",
        "              # if this is the first row will need to initialize input sequence with arrays\n",
        "              while len(new_row) > len(input_sequence):\n",
        "                input_sequence.append([])\n",
        "              \n",
        "              # put each wrapped value in the correct index \n",
        "              for idx in range(len(new_row)):\n",
        "                input_sequence[idx].append(new_row[idx])\n",
        "        test_len = int(args.test_split * len(input_sequence[0]))\n",
        "        input_sequence = torch.tensor(input_sequence)[:, 0:test_len, :]\n",
        "\n",
        "\n",
        "\n",
        "        output_sequence = []\n",
        "        with open(f\"{self.args.workingDir}/{self.args.outputFile}.csv\", newline='') as csvfile:\n",
        "          spamreader = csv.reader(csvfile, delimiter=',', quotechar='|')\n",
        "          spamreader.__next__()\n",
        "          for row in spamreader:\n",
        "            new_row = []\n",
        "            for val in row:\n",
        "              new_row.append(float(val))\n",
        "            output_sequence.append(new_row)\n",
        "        output_sequence = torch.tensor(output_sequence)[0:test_len]\n",
        "        return input_sequence, output_sequence\n",
        "\n",
        "    def __len__(self):\n",
        "        # Get the number of sequences for training purpose.\n",
        "        return len(self.input_sequence[0]) - self.args.seqLength\n",
        "\n",
        "    # returns tensor is size [num_features, 1, seq_length]\n",
        "    def __getitem__(self, index):\n",
        "        return_seq = self.input_sequence[:, index:index+self.args.seqLength, :].transpose(1, 2).detach().clone()\n",
        "        return_seq = torch.squeeze(return_seq)\n",
        "        # need to apply normalization to input \n",
        "        # normalization squeezes between 0 and 1 while keeping percent change between values the same\n",
        "        # each feature sequence that I want to noralize gets divided by its max value\n",
        "\n",
        "        # stock, bond, and real estate price\n",
        "        # normalize_idxs = [0, 1]\n",
        "\n",
        "        # # get mask with size of features with 1s where you want to normlaize\n",
        "        # mask = torch.zeros(return_seq.shape[0], dtype=torch.bool)\n",
        "        # mask[normalize_idxs] = True\n",
        "\n",
        "        # # get max values of indees you want to normaize\n",
        "        # max_vals, _ = return_seq[mask].max(dim = 2, keepdim =True)\n",
        "\n",
        "        # # for indexes you want to nomalize divide by max value\n",
        "        # return_seq[mask] /= max_vals\n",
        "        return (\n",
        "            return_seq,\n",
        "            self.output_sequence[index+self.args.seqLength - 1],\n",
        "        )\n",
        "\n",
        "\n",
        "class ValData(torch.utils.data.Dataset):\n",
        "    def __init__(self,args):\n",
        "        self.args = args\n",
        "        self.input_sequence , self.output_sequence = self.loadData()\n",
        "\n",
        "    def loadData(self):\n",
        "        # Read the text\n",
        "        input_sequence = []\n",
        "        with open(f\"{self.args.workingDir}/{self.args.inputFile}.csv\", newline='') as csvfile:\n",
        "          spamreader = csv.reader(csvfile, delimiter=',', quotechar='|')\n",
        "          spamreader.__next__()\n",
        "          for row in spamreader:\n",
        "              new_row = []\n",
        "              for val in row:\n",
        "                new_row.append([float(val)])\n",
        "              while len(new_row) > len(input_sequence):\n",
        "                input_sequence.append([])\n",
        "              for idx in range(len(new_row)):\n",
        "                input_sequence[idx].append(new_row[idx])\n",
        "        test_len = int(args.test_split * len(input_sequence[0]))\n",
        "        input_sequence = torch.tensor(input_sequence)[:, test_len: , :]\n",
        "\n",
        "        output_sequence = []\n",
        "        with open(f\"{self.args.workingDir}/{self.args.outputFile}.csv\", newline='') as csvfile:\n",
        "          spamreader = csv.reader(csvfile, delimiter=',', quotechar='|')\n",
        "          spamreader.__next__()\n",
        "          for row in spamreader:\n",
        "            new_row = []\n",
        "            for val in row:\n",
        "              new_row.append(float(val))\n",
        "            output_sequence.append(new_row)\n",
        "        output_sequence = torch.tensor(output_sequence)[test_len: ]\n",
        "        return input_sequence, output_sequence\n",
        "\n",
        "    def __len__(self):\n",
        "        # Get the number of sequences for training purpose.\n",
        "        return len(self.input_sequence[0]) - self.args.seqLength\n",
        "\n",
        "    def __getitem__(self, index):\n",
        "        return_seq = self.input_sequence[:, index:index+self.args.seqLength, :].transpose(1, 2).detach().clone()\n",
        "        return_seq = torch.squeeze(return_seq)\n",
        "        # need to apply normalization to input \n",
        "        # normalization squeezes between 0 and 1 while keeping percent change between values the same\n",
        "        # each feature sequence that I want to noralize gets divided by its max value\n",
        "\n",
        "        # # stock, bond, and real estate price\n",
        "        # normalize_idxs = [0, 1]\n",
        "\n",
        "        # # get mask with size of features with 1s where you want to normlaize\n",
        "        # mask = torch.zeros(return_seq.shape[0], dtype=torch.bool)\n",
        "        # mask[normalize_idxs] = True\n",
        "\n",
        "        # # get max values of indees you want to normaize\n",
        "        # max_vals, _ = return_seq[mask].max(dim = 2, keepdim =True)\n",
        "\n",
        "        # # for indexes you want to nomalize divide by max value\n",
        "        # return_seq[mask] /= max_vals\n",
        "\n",
        "        return (\n",
        "            return_seq,\n",
        "            self.output_sequence[index+self.args.seqLength -1],\n",
        "        )"
      ],
      "metadata": {
        "id": "9WXROY0Z4Sss"
      },
      "execution_count": null,
      "outputs": []
    },
    {
      "cell_type": "code",
      "source": [
        "parser = argparse.ArgumentParser()\n",
        "parser.add_argument('-f')\n",
        "parser.add_argument('--workingDir', type=str, \n",
        "    default=\"/content/drive/My Drive/Neural Networks Project\")\n",
        "# Can be game_of_thrones or wonder_land:\n",
        "parser.add_argument('--inputFile', type=str, default=\"input_data_conv\") \n",
        "parser.add_argument('--outputFile', type=str, default=\"output_data_conv\") \n",
        "parser.add_argument('--maxEpochs', type=int, default=100)\n",
        "parser.add_argument('--batchSize', type=int, default=12)\n",
        "parser.add_argument('--seqLength', type=int, default=63)\n",
        "parser.add_argument('--learningRate', type=float, default=.01)\n",
        "parser.add_argument('--dropoutRate', type=float, default=0.0)\n",
        "parser.add_argument('--test_split', type=float, default=.9)\n",
        "parser.add_argument('--num_channels', type=float, default=2)\n",
        "args = parser.parse_args()"
      ],
      "metadata": {
        "id": "5GUSyYRanh58"
      },
      "execution_count": null,
      "outputs": []
    },
    {
      "cell_type": "code",
      "source": [
        "dataset = TrainData(args)\n",
        "train_loader = DataLoader(dataset,  batch_size=args.batchSize, shuffle=False, drop_last=False, num_workers=2)\n",
        "valset = ValData(args)\n",
        "val_loader = DataLoader(valset, batch_size=args.batchSize, shuffle=False, drop_last=False, num_workers=2)\n",
        "data_iter = iter(train_loader)\n",
        "print(dataset.__len__())\n",
        "print(valset.__len__())"
      ],
      "metadata": {
        "id": "ox0ZhjS7nVO8",
        "colab": {
          "base_uri": "https://localhost:8080/"
        },
        "outputId": "7aa3edfa-deca-48af-bb2b-ef7f6a6e5862"
      },
      "execution_count": null,
      "outputs": [
        {
          "output_type": "stream",
          "name": "stdout",
          "text": [
            "4222\n",
            "414\n"
          ]
        }
      ]
    },
    {
      "cell_type": "markdown",
      "source": [
        "### The main training and evaluation code starts here"
      ],
      "metadata": {
        "id": "35KXsx9VGiWx"
      }
    },
    {
      "cell_type": "code",
      "source": [
        "if __name__ == '__main__':\n",
        "    # Specify the operation mode:\n",
        "    # 'train' = training with your train and validation data splits\n",
        "    # 'eval'  = evaluation of the trained model with your test data split \n",
        "    mode = 'train'\n",
        "\n",
        "    # Path where you plan to save the best model during training\n",
        "    my_best_model = \"/content/drive/MyDrive/Neural Networks Project/Convolution_best_model_conv.pth\"\n",
        "\n",
        "    # Set the device (GPU or CPU, depending on availability)\n",
        "    device = torch.device('cuda:0' if torch.cuda.is_available() else 'cpu')\n",
        "    print(\"Currently using device: \", device)\n",
        "\n",
        "    # Initialize the model and print out its configuration\n",
        "    model = CNN(numChannels = args.num_channels)\n",
        "    model.to(device)\n",
        "    print(\"\\n\\nModel summary:\\n\\n\")\n",
        "    summary(model, input_size=(args.num_channels, 63))\n",
        "\n",
        "    if mode == \"train\":\n",
        "\n",
        "        print(\"\\n\\nTraining starts!\\n\\n\")\n",
        "        \n",
        "        model.train()\n",
        "        criterion = nn.MSELoss()\n",
        "        optimizer = torch.optim.Adam(model.parameters(), lr=args.learningRate)\n",
        "        # optimizer = torch.optim.SGD(model.parameters(), lr=0.01, momentum=0.5)\n",
        "        \n",
        "        best_val_loss = float('inf')\n",
        "        for epoch in range(args.maxEpochs):\n",
        "            running_loss = .0\n",
        "            print(f\"Starting epoch {epoch + 1}\")\n",
        "            bestLoss = float('inf')\n",
        "            for idx, data in tqdm(enumerate(train_loader), total=len(train_loader)):\n",
        "                # Get the inputs (data is a list of [inputs, labels])\n",
        "              \n",
        "                inputs, labels = data\n",
        "                inputs = inputs.to(device)\n",
        "                labels = labels.to(device)\n",
        "                optimizer.zero_grad()\n",
        "                outputs = model(inputs)\n",
        "                \n",
        "                loss = criterion(outputs, labels)\n",
        "                loss.backward()\n",
        "                optimizer.step()\n",
        "\n",
        "                loss = loss.detach().cpu().numpy()\n",
        "                inputs = inputs.detach().cpu().numpy()\n",
        "                labels = labels.detach().cpu().numpy()\n",
        "                running_loss += loss\n",
        "              \n",
        "            \n",
        "                currLoss = loss.item()\n",
        "                \n",
        "                # Only save models with smallest loss per epoch.\n",
        "                if currLoss < bestLoss:\n",
        "                    bestLoss = currLoss\n",
        "                    # torch.save(model.state_dict(), my_best_model)\n",
        "            print(f\"Epoch ID: {epoch}, 'the ave loss': {running_loss/ train_loader.__len__()}\")\n",
        "\n",
        "            # Evaluate the accuracy after each epoch\n",
        "            val_loss = model.evaluate(model, val_loader, device)\n",
        "            print(f\"Epoch ID: {epoch}, 'the ave val loss': {val_loss}\")\n",
        "            if val_loss < best_val_loss:\n",
        "                print(f\"Better validation accuracy achieved: {val_loss}\")\n",
        "                best_val_loss = val_loss\n",
        "                print(f\"Saving this model as: {my_best_model}\")\n",
        "                torch.save(model.state_dict(), my_best_model)\n",
        "\n",
        "    # And here we evaluate the trained model with the test data\n",
        "    # elif mode == \"eval\":\n",
        "\n",
        "    #     print(\"\\n\\nValidating the trained model:\")\n",
        "    #     print(f\"Loading checkpoint from {my_best_model}\")\n",
        "    #     model.load_state_dict(torch.load(my_best_model))\n",
        "    #     acc = model.evaluate(model, test_loader, classes, device)\n",
        "    #     print(f\"Accuracy on the test (unknown) data: {acc * 100:.2f}%\")\n",
        "\n",
        "    else:\n",
        "        print(\"'mode' argument should either be 'train' or 'eval'\")"
      ],
      "metadata": {
        "id": "yy5S2JkWgzsj",
        "colab": {
          "base_uri": "https://localhost:8080/",
          "height": 1000
        },
        "outputId": "211c1e9c-a9ce-4c12-b613-1df04b21d87c"
      },
      "execution_count": null,
      "outputs": [
        {
          "output_type": "stream",
          "name": "stdout",
          "text": [
            "Currently using device:  cuda:0\n",
            "\n",
            "\n",
            "Model summary:\n",
            "\n",
            "\n",
            "----------------------------------------------------------------\n",
            "        Layer (type)               Output Shape         Param #\n",
            "================================================================\n",
            "            Conv1d-1               [-1, 25, 57]             375\n",
            "              ReLU-2               [-1, 25, 57]               0\n",
            "         MaxPool2d-3               [-1, 25, 28]               0\n",
            "            Conv1d-4               [-1, 50, 24]           6,300\n",
            "              ReLU-5               [-1, 50, 24]               0\n",
            "         MaxPool2d-6               [-1, 50, 12]               0\n",
            "            Conv1d-7               [-1, 75, 10]          11,325\n",
            "              ReLU-8               [-1, 75, 10]               0\n",
            "         MaxPool2d-9                [-1, 75, 5]               0\n",
            "           Conv1d-10               [-1, 100, 3]          22,600\n",
            "             ReLU-11               [-1, 100, 3]               0\n",
            "           Conv1d-12               [-1, 150, 1]          45,150\n",
            "             ReLU-13               [-1, 150, 1]               0\n",
            "           Linear-14                   [-1, 75]          11,325\n",
            "             Tanh-15                   [-1, 75]               0\n",
            "           Linear-16                   [-1, 50]           3,800\n",
            "             Tanh-17                   [-1, 50]               0\n",
            "           Linear-18                    [-1, 3]             153\n",
            "          Sigmoid-19                    [-1, 3]               0\n",
            "================================================================\n",
            "Total params: 101,028\n",
            "Trainable params: 101,028\n",
            "Non-trainable params: 0\n",
            "----------------------------------------------------------------\n",
            "Input size (MB): 0.00\n",
            "Forward/backward pass size (MB): 0.07\n",
            "Params size (MB): 0.39\n",
            "Estimated Total Size (MB): 0.46\n",
            "----------------------------------------------------------------\n",
            "\n",
            "\n",
            "Training starts!\n",
            "\n",
            "\n",
            "Starting epoch 1\n"
          ]
        },
        {
          "output_type": "stream",
          "name": "stderr",
          "text": [
            "100%|██████████| 352/352 [00:03<00:00, 98.95it/s] "
          ]
        },
        {
          "output_type": "stream",
          "name": "stdout",
          "text": [
            "Epoch ID: 0, 'the ave loss': 0.21395064783428097\n"
          ]
        },
        {
          "output_type": "stream",
          "name": "stderr",
          "text": [
            "\n"
          ]
        },
        {
          "output_type": "stream",
          "name": "stdout",
          "text": [
            "Epoch ID: 0, 'the ave val loss': 0.20611051033650127\n",
            "Better validation accuracy achieved: 0.20611051033650127\n",
            "Saving this model as: /content/drive/MyDrive/Neural Networks Project/Convolution_best_model_conv.pth\n",
            "Starting epoch 2\n"
          ]
        },
        {
          "output_type": "stream",
          "name": "stderr",
          "text": [
            "100%|██████████| 352/352 [00:02<00:00, 118.22it/s]"
          ]
        },
        {
          "output_type": "stream",
          "name": "stdout",
          "text": [
            "Epoch ID: 1, 'the ave loss': 0.21276205224752298\n"
          ]
        },
        {
          "output_type": "stream",
          "name": "stderr",
          "text": [
            "\n"
          ]
        },
        {
          "output_type": "stream",
          "name": "stdout",
          "text": [
            "Epoch ID: 1, 'the ave val loss': 0.20416867339185307\n",
            "Better validation accuracy achieved: 0.20416867339185307\n",
            "Saving this model as: /content/drive/MyDrive/Neural Networks Project/Convolution_best_model_conv.pth\n",
            "Starting epoch 3\n"
          ]
        },
        {
          "output_type": "stream",
          "name": "stderr",
          "text": [
            "100%|██████████| 352/352 [00:02<00:00, 124.59it/s]"
          ]
        },
        {
          "output_type": "stream",
          "name": "stdout",
          "text": [
            "Epoch ID: 2, 'the ave loss': 0.21381638621691804\n"
          ]
        },
        {
          "output_type": "stream",
          "name": "stderr",
          "text": [
            "\n"
          ]
        },
        {
          "output_type": "stream",
          "name": "stdout",
          "text": [
            "Epoch ID: 2, 'the ave val loss': 0.20415428834302085\n",
            "Better validation accuracy achieved: 0.20415428834302085\n",
            "Saving this model as: /content/drive/MyDrive/Neural Networks Project/Convolution_best_model_conv.pth\n",
            "Starting epoch 4\n"
          ]
        },
        {
          "output_type": "stream",
          "name": "stderr",
          "text": [
            "100%|██████████| 352/352 [00:02<00:00, 125.59it/s]"
          ]
        },
        {
          "output_type": "stream",
          "name": "stdout",
          "text": [
            "Epoch ID: 3, 'the ave loss': 0.21458827011850767\n"
          ]
        },
        {
          "output_type": "stream",
          "name": "stderr",
          "text": [
            "\n"
          ]
        },
        {
          "output_type": "stream",
          "name": "stdout",
          "text": [
            "Epoch ID: 3, 'the ave val loss': 0.2040879922253745\n",
            "Better validation accuracy achieved: 0.2040879922253745\n",
            "Saving this model as: /content/drive/MyDrive/Neural Networks Project/Convolution_best_model_conv.pth\n",
            "Starting epoch 5\n"
          ]
        },
        {
          "output_type": "stream",
          "name": "stderr",
          "text": [
            "100%|██████████| 352/352 [00:04<00:00, 84.78it/s]"
          ]
        },
        {
          "output_type": "stream",
          "name": "stdout",
          "text": [
            "Epoch ID: 4, 'the ave loss': 0.21375353501273572\n"
          ]
        },
        {
          "output_type": "stream",
          "name": "stderr",
          "text": [
            "\n"
          ]
        },
        {
          "output_type": "stream",
          "name": "stdout",
          "text": [
            "Epoch ID: 4, 'the ave val loss': 0.20406520047358104\n",
            "Better validation accuracy achieved: 0.20406520047358104\n",
            "Saving this model as: /content/drive/MyDrive/Neural Networks Project/Convolution_best_model_conv.pth\n",
            "Starting epoch 6\n"
          ]
        },
        {
          "output_type": "stream",
          "name": "stderr",
          "text": [
            "100%|██████████| 352/352 [00:02<00:00, 127.96it/s]"
          ]
        },
        {
          "output_type": "stream",
          "name": "stdout",
          "text": [
            "Epoch ID: 5, 'the ave loss': 0.21469963521667523\n"
          ]
        },
        {
          "output_type": "stream",
          "name": "stderr",
          "text": [
            "\n"
          ]
        },
        {
          "output_type": "stream",
          "name": "stdout",
          "text": [
            "Epoch ID: 5, 'the ave val loss': 0.20404342710971832\n",
            "Better validation accuracy achieved: 0.20404342710971832\n",
            "Saving this model as: /content/drive/MyDrive/Neural Networks Project/Convolution_best_model_conv.pth\n",
            "Starting epoch 7\n"
          ]
        },
        {
          "output_type": "stream",
          "name": "stderr",
          "text": [
            "100%|██████████| 352/352 [00:02<00:00, 124.42it/s]"
          ]
        },
        {
          "output_type": "stream",
          "name": "stdout",
          "text": [
            "Epoch ID: 6, 'the ave loss': 0.21441318756908664\n"
          ]
        },
        {
          "output_type": "stream",
          "name": "stderr",
          "text": [
            "\n"
          ]
        },
        {
          "output_type": "stream",
          "name": "stdout",
          "text": [
            "Epoch ID: 6, 'the ave val loss': 0.20403873696923255\n",
            "Better validation accuracy achieved: 0.20403873696923255\n",
            "Saving this model as: /content/drive/MyDrive/Neural Networks Project/Convolution_best_model_conv.pth\n",
            "Starting epoch 8\n"
          ]
        },
        {
          "output_type": "stream",
          "name": "stderr",
          "text": [
            "100%|██████████| 352/352 [00:02<00:00, 128.47it/s]"
          ]
        },
        {
          "output_type": "stream",
          "name": "stdout",
          "text": [
            "Epoch ID: 7, 'the ave loss': 0.21454134683153825\n"
          ]
        },
        {
          "output_type": "stream",
          "name": "stderr",
          "text": [
            "\n"
          ]
        },
        {
          "output_type": "stream",
          "name": "stdout",
          "text": [
            "Epoch ID: 7, 'the ave val loss': 0.2040165405188288\n",
            "Better validation accuracy achieved: 0.2040165405188288\n",
            "Saving this model as: /content/drive/MyDrive/Neural Networks Project/Convolution_best_model_conv.pth\n",
            "Starting epoch 9\n"
          ]
        },
        {
          "output_type": "stream",
          "name": "stderr",
          "text": [
            "100%|██████████| 352/352 [00:03<00:00, 112.83it/s]"
          ]
        },
        {
          "output_type": "stream",
          "name": "stdout",
          "text": [
            "Epoch ID: 8, 'the ave loss': 0.21438244232029485\n"
          ]
        },
        {
          "output_type": "stream",
          "name": "stderr",
          "text": [
            "\n"
          ]
        },
        {
          "output_type": "stream",
          "name": "stdout",
          "text": [
            "Epoch ID: 8, 'the ave val loss': 0.2040116635816438\n",
            "Better validation accuracy achieved: 0.2040116635816438\n",
            "Saving this model as: /content/drive/MyDrive/Neural Networks Project/Convolution_best_model_conv.pth\n",
            "Starting epoch 10\n"
          ]
        },
        {
          "output_type": "stream",
          "name": "stderr",
          "text": [
            "100%|██████████| 352/352 [00:02<00:00, 127.65it/s]"
          ]
        },
        {
          "output_type": "stream",
          "name": "stdout",
          "text": [
            "Epoch ID: 9, 'the ave loss': 0.2140411743629639\n"
          ]
        },
        {
          "output_type": "stream",
          "name": "stderr",
          "text": [
            "\n"
          ]
        },
        {
          "output_type": "stream",
          "name": "stdout",
          "text": [
            "Epoch ID: 9, 'the ave val loss': 0.2039993030684335\n",
            "Better validation accuracy achieved: 0.2039993030684335\n",
            "Saving this model as: /content/drive/MyDrive/Neural Networks Project/Convolution_best_model_conv.pth\n",
            "Starting epoch 11\n"
          ]
        },
        {
          "output_type": "stream",
          "name": "stderr",
          "text": [
            "100%|██████████| 352/352 [00:02<00:00, 135.79it/s]"
          ]
        },
        {
          "output_type": "stream",
          "name": "stdout",
          "text": [
            "Epoch ID: 10, 'the ave loss': 0.21436061087826436\n"
          ]
        },
        {
          "output_type": "stream",
          "name": "stderr",
          "text": [
            "\n"
          ]
        },
        {
          "output_type": "stream",
          "name": "stdout",
          "text": [
            "Epoch ID: 10, 'the ave val loss': 0.2040078063096319\n",
            "Starting epoch 12\n"
          ]
        },
        {
          "output_type": "stream",
          "name": "stderr",
          "text": [
            "100%|██████████| 352/352 [00:02<00:00, 135.30it/s]"
          ]
        },
        {
          "output_type": "stream",
          "name": "stdout",
          "text": [
            "Epoch ID: 11, 'the ave loss': 0.21424349966996073\n"
          ]
        },
        {
          "output_type": "stream",
          "name": "stderr",
          "text": [
            "\n"
          ]
        },
        {
          "output_type": "stream",
          "name": "stdout",
          "text": [
            "Epoch ID: 11, 'the ave val loss': 0.20401683439101492\n",
            "Starting epoch 13\n"
          ]
        },
        {
          "output_type": "stream",
          "name": "stderr",
          "text": [
            "100%|██████████| 352/352 [00:02<00:00, 122.78it/s]"
          ]
        },
        {
          "output_type": "stream",
          "name": "stdout",
          "text": [
            "Epoch ID: 12, 'the ave loss': 0.21438525344869544\n"
          ]
        },
        {
          "output_type": "stream",
          "name": "stderr",
          "text": [
            "\n"
          ]
        },
        {
          "output_type": "stream",
          "name": "stdout",
          "text": [
            "Epoch ID: 12, 'the ave val loss': 0.20401779934763908\n",
            "Starting epoch 14\n"
          ]
        },
        {
          "output_type": "stream",
          "name": "stderr",
          "text": [
            "100%|██████████| 352/352 [00:03<00:00, 117.08it/s]"
          ]
        },
        {
          "output_type": "stream",
          "name": "stdout",
          "text": [
            "Epoch ID: 13, 'the ave loss': 0.21439030174158027\n"
          ]
        },
        {
          "output_type": "stream",
          "name": "stderr",
          "text": [
            "\n"
          ]
        },
        {
          "output_type": "stream",
          "name": "stdout",
          "text": [
            "Epoch ID: 13, 'the ave val loss': 0.20402074626513889\n",
            "Starting epoch 15\n"
          ]
        },
        {
          "output_type": "stream",
          "name": "stderr",
          "text": [
            "100%|██████████| 352/352 [00:02<00:00, 136.04it/s]"
          ]
        },
        {
          "output_type": "stream",
          "name": "stdout",
          "text": [
            "Epoch ID: 14, 'the ave loss': 0.2143928254121089\n"
          ]
        },
        {
          "output_type": "stream",
          "name": "stderr",
          "text": [
            "\n"
          ]
        },
        {
          "output_type": "stream",
          "name": "stdout",
          "text": [
            "Epoch ID: 14, 'the ave val loss': 0.2040231894169535\n",
            "Starting epoch 16\n"
          ]
        },
        {
          "output_type": "stream",
          "name": "stderr",
          "text": [
            "100%|██████████| 352/352 [00:02<00:00, 137.24it/s]"
          ]
        },
        {
          "output_type": "stream",
          "name": "stdout",
          "text": [
            "Epoch ID: 15, 'the ave loss': 0.21439597356352766\n"
          ]
        },
        {
          "output_type": "stream",
          "name": "stderr",
          "text": [
            "\n"
          ]
        },
        {
          "output_type": "stream",
          "name": "stdout",
          "text": [
            "Epoch ID: 15, 'the ave val loss': 0.20402367806860378\n",
            "Starting epoch 17\n"
          ]
        },
        {
          "output_type": "stream",
          "name": "stderr",
          "text": [
            "100%|██████████| 352/352 [00:02<00:00, 133.93it/s]"
          ]
        },
        {
          "output_type": "stream",
          "name": "stdout",
          "text": [
            "Epoch ID: 16, 'the ave loss': 0.21433102090866835\n"
          ]
        },
        {
          "output_type": "stream",
          "name": "stderr",
          "text": [
            "\n"
          ]
        },
        {
          "output_type": "stream",
          "name": "stdout",
          "text": [
            "Epoch ID: 16, 'the ave val loss': 0.20402204373053143\n",
            "Starting epoch 18\n"
          ]
        },
        {
          "output_type": "stream",
          "name": "stderr",
          "text": [
            "100%|██████████| 352/352 [00:03<00:00, 105.13it/s]"
          ]
        },
        {
          "output_type": "stream",
          "name": "stdout",
          "text": [
            "Epoch ID: 17, 'the ave loss': 0.21439569881410783\n"
          ]
        },
        {
          "output_type": "stream",
          "name": "stderr",
          "text": [
            "\n"
          ]
        },
        {
          "output_type": "stream",
          "name": "stdout",
          "text": [
            "Epoch ID: 17, 'the ave val loss': 0.2040225655904838\n",
            "Starting epoch 19\n"
          ]
        },
        {
          "output_type": "stream",
          "name": "stderr",
          "text": [
            "100%|██████████| 352/352 [00:02<00:00, 135.63it/s]"
          ]
        },
        {
          "output_type": "stream",
          "name": "stdout",
          "text": [
            "Epoch ID: 18, 'the ave loss': 0.21424891502432397\n"
          ]
        },
        {
          "output_type": "stream",
          "name": "stderr",
          "text": [
            "\n"
          ]
        },
        {
          "output_type": "stream",
          "name": "stdout",
          "text": [
            "Epoch ID: 18, 'the ave val loss': 0.20402689203619956\n",
            "Starting epoch 20\n"
          ]
        },
        {
          "output_type": "stream",
          "name": "stderr",
          "text": [
            "100%|██████████| 352/352 [00:02<00:00, 135.86it/s]"
          ]
        },
        {
          "output_type": "stream",
          "name": "stdout",
          "text": [
            "Epoch ID: 19, 'the ave loss': 0.21438523454906483\n"
          ]
        },
        {
          "output_type": "stream",
          "name": "stderr",
          "text": [
            "\n"
          ]
        },
        {
          "output_type": "stream",
          "name": "stdout",
          "text": [
            "Epoch ID: 19, 'the ave val loss': 0.2040264894919736\n",
            "Starting epoch 21\n"
          ]
        },
        {
          "output_type": "stream",
          "name": "stderr",
          "text": [
            "100%|██████████| 352/352 [00:02<00:00, 133.16it/s]"
          ]
        },
        {
          "output_type": "stream",
          "name": "stdout",
          "text": [
            "Epoch ID: 20, 'the ave loss': 0.21438867653474022\n"
          ]
        },
        {
          "output_type": "stream",
          "name": "stderr",
          "text": [
            "\n"
          ]
        },
        {
          "output_type": "stream",
          "name": "stdout",
          "text": [
            "Epoch ID: 20, 'the ave val loss': 0.20402613228985242\n",
            "Starting epoch 22\n"
          ]
        },
        {
          "output_type": "stream",
          "name": "stderr",
          "text": [
            "100%|██████████| 352/352 [00:03<00:00, 114.12it/s]"
          ]
        },
        {
          "output_type": "stream",
          "name": "stdout",
          "text": [
            "Epoch ID: 21, 'the ave loss': 0.21439133256485962\n"
          ]
        },
        {
          "output_type": "stream",
          "name": "stderr",
          "text": [
            "\n"
          ]
        },
        {
          "output_type": "stream",
          "name": "stdout",
          "text": [
            "Epoch ID: 21, 'the ave val loss': 0.20402623223406927\n",
            "Starting epoch 23\n"
          ]
        },
        {
          "output_type": "stream",
          "name": "stderr",
          "text": [
            "100%|██████████| 352/352 [00:02<00:00, 125.86it/s]"
          ]
        },
        {
          "output_type": "stream",
          "name": "stdout",
          "text": [
            "Epoch ID: 22, 'the ave loss': 0.21439358995650598\n"
          ]
        },
        {
          "output_type": "stream",
          "name": "stderr",
          "text": [
            "\n"
          ]
        },
        {
          "output_type": "stream",
          "name": "stdout",
          "text": [
            "Epoch ID: 22, 'the ave val loss': 0.20402615251285688\n",
            "Starting epoch 24\n"
          ]
        },
        {
          "output_type": "stream",
          "name": "stderr",
          "text": [
            "100%|██████████| 352/352 [00:02<00:00, 135.05it/s]"
          ]
        },
        {
          "output_type": "stream",
          "name": "stdout",
          "text": [
            "Epoch ID: 23, 'the ave loss': 0.21449797138087556\n"
          ]
        },
        {
          "output_type": "stream",
          "name": "stderr",
          "text": [
            "\n"
          ]
        },
        {
          "output_type": "stream",
          "name": "stdout",
          "text": [
            "Epoch ID: 23, 'the ave val loss': 0.20402490752083915\n",
            "Starting epoch 25\n"
          ]
        },
        {
          "output_type": "stream",
          "name": "stderr",
          "text": [
            "100%|██████████| 352/352 [00:02<00:00, 131.31it/s]"
          ]
        },
        {
          "output_type": "stream",
          "name": "stdout",
          "text": [
            "Epoch ID: 24, 'the ave loss': 0.21439814341680508\n"
          ]
        },
        {
          "output_type": "stream",
          "name": "stderr",
          "text": [
            "\n"
          ]
        },
        {
          "output_type": "stream",
          "name": "stdout",
          "text": [
            "Epoch ID: 24, 'the ave val loss': 0.20402554859008107\n",
            "Starting epoch 26\n"
          ]
        },
        {
          "output_type": "stream",
          "name": "stderr",
          "text": [
            "100%|██████████| 352/352 [00:03<00:00, 115.30it/s]"
          ]
        },
        {
          "output_type": "stream",
          "name": "stdout",
          "text": [
            "Epoch ID: 25, 'the ave loss': 0.2143985770605716\n"
          ]
        },
        {
          "output_type": "stream",
          "name": "stderr",
          "text": [
            "\n"
          ]
        },
        {
          "output_type": "stream",
          "name": "stdout",
          "text": [
            "Epoch ID: 25, 'the ave val loss': 0.20402564810855048\n",
            "Starting epoch 27\n"
          ]
        },
        {
          "output_type": "stream",
          "name": "stderr",
          "text": [
            "100%|██████████| 352/352 [00:03<00:00, 115.13it/s]"
          ]
        },
        {
          "output_type": "stream",
          "name": "stdout",
          "text": [
            "Epoch ID: 26, 'the ave loss': 0.21435981301990317\n"
          ]
        },
        {
          "output_type": "stream",
          "name": "stderr",
          "text": [
            "\n"
          ]
        },
        {
          "output_type": "stream",
          "name": "stdout",
          "text": [
            "Epoch ID: 26, 'the ave val loss': 0.20402613409927914\n",
            "Starting epoch 28\n"
          ]
        },
        {
          "output_type": "stream",
          "name": "stderr",
          "text": [
            "100%|██████████| 352/352 [00:02<00:00, 130.09it/s]"
          ]
        },
        {
          "output_type": "stream",
          "name": "stdout",
          "text": [
            "Epoch ID: 27, 'the ave loss': 0.2144019247339615\n"
          ]
        },
        {
          "output_type": "stream",
          "name": "stderr",
          "text": [
            "\n"
          ]
        },
        {
          "output_type": "stream",
          "name": "stdout",
          "text": [
            "Epoch ID: 27, 'the ave val loss': 0.204025913136346\n",
            "Starting epoch 29\n"
          ]
        },
        {
          "output_type": "stream",
          "name": "stderr",
          "text": [
            "100%|██████████| 352/352 [00:02<00:00, 128.95it/s]"
          ]
        },
        {
          "output_type": "stream",
          "name": "stdout",
          "text": [
            "Epoch ID: 28, 'the ave loss': 0.2144012375283637\n"
          ]
        },
        {
          "output_type": "stream",
          "name": "stderr",
          "text": [
            "\n"
          ]
        },
        {
          "output_type": "stream",
          "name": "stdout",
          "text": [
            "Epoch ID: 28, 'the ave val loss': 0.20402592037405287\n",
            "Starting epoch 30\n"
          ]
        },
        {
          "output_type": "stream",
          "name": "stderr",
          "text": [
            "100%|██████████| 352/352 [00:02<00:00, 129.18it/s]"
          ]
        },
        {
          "output_type": "stream",
          "name": "stdout",
          "text": [
            "Epoch ID: 29, 'the ave loss': 0.2139923675528156\n"
          ]
        },
        {
          "output_type": "stream",
          "name": "stderr",
          "text": [
            "\n"
          ]
        },
        {
          "output_type": "stream",
          "name": "stdout",
          "text": [
            "Epoch ID: 29, 'the ave val loss': 0.20403564923575945\n",
            "Starting epoch 31\n"
          ]
        },
        {
          "output_type": "stream",
          "name": "stderr",
          "text": [
            "100%|██████████| 352/352 [00:03<00:00, 109.83it/s]"
          ]
        },
        {
          "output_type": "stream",
          "name": "stdout",
          "text": [
            "Epoch ID: 30, 'the ave loss': 0.21438116126228124\n"
          ]
        },
        {
          "output_type": "stream",
          "name": "stderr",
          "text": [
            "\n"
          ]
        },
        {
          "output_type": "stream",
          "name": "stdout",
          "text": [
            "Epoch ID: 30, 'the ave val loss': 0.20403194757444518\n",
            "Starting epoch 32\n"
          ]
        },
        {
          "output_type": "stream",
          "name": "stderr",
          "text": [
            "100%|██████████| 352/352 [00:02<00:00, 137.91it/s]"
          ]
        },
        {
          "output_type": "stream",
          "name": "stdout",
          "text": [
            "Epoch ID: 31, 'the ave loss': 0.21438560712373478\n"
          ]
        },
        {
          "output_type": "stream",
          "name": "stderr",
          "text": [
            "\n"
          ]
        },
        {
          "output_type": "stream",
          "name": "stdout",
          "text": [
            "Epoch ID: 31, 'the ave val loss': 0.20403022968343326\n",
            "Starting epoch 33\n"
          ]
        },
        {
          "output_type": "stream",
          "name": "stderr",
          "text": [
            "100%|██████████| 352/352 [00:02<00:00, 137.48it/s]"
          ]
        },
        {
          "output_type": "stream",
          "name": "stdout",
          "text": [
            "Epoch ID: 32, 'the ave loss': 0.21438905730610713\n"
          ]
        },
        {
          "output_type": "stream",
          "name": "stderr",
          "text": [
            "\n"
          ]
        },
        {
          "output_type": "stream",
          "name": "stdout",
          "text": [
            "Epoch ID: 32, 'the ave val loss': 0.20402900321143014\n",
            "Starting epoch 34\n"
          ]
        },
        {
          "output_type": "stream",
          "name": "stderr",
          "text": [
            "100%|██████████| 352/352 [00:02<00:00, 135.03it/s]"
          ]
        },
        {
          "output_type": "stream",
          "name": "stdout",
          "text": [
            "Epoch ID: 33, 'the ave loss': 0.21439158297223251\n"
          ]
        },
        {
          "output_type": "stream",
          "name": "stderr",
          "text": [
            "\n"
          ]
        },
        {
          "output_type": "stream",
          "name": "stdout",
          "text": [
            "Epoch ID: 33, 'the ave val loss': 0.2040281368153436\n",
            "Starting epoch 35\n"
          ]
        },
        {
          "output_type": "stream",
          "name": "stderr",
          "text": [
            "100%|██████████| 352/352 [00:03<00:00, 107.72it/s]"
          ]
        },
        {
          "output_type": "stream",
          "name": "stdout",
          "text": [
            "Epoch ID: 34, 'the ave loss': 0.21439343271380162\n"
          ]
        },
        {
          "output_type": "stream",
          "name": "stderr",
          "text": [
            "\n"
          ]
        },
        {
          "output_type": "stream",
          "name": "stdout",
          "text": [
            "Epoch ID: 34, 'the ave val loss': 0.2040274971297809\n",
            "Starting epoch 36\n"
          ]
        },
        {
          "output_type": "stream",
          "name": "stderr",
          "text": [
            "100%|██████████| 352/352 [00:02<00:00, 119.13it/s]"
          ]
        },
        {
          "output_type": "stream",
          "name": "stdout",
          "text": [
            "Epoch ID: 35, 'the ave loss': 0.214394801876386\n"
          ]
        },
        {
          "output_type": "stream",
          "name": "stderr",
          "text": [
            "\n"
          ]
        },
        {
          "output_type": "stream",
          "name": "stdout",
          "text": [
            "Epoch ID: 35, 'the ave val loss': 0.204027038280453\n",
            "Starting epoch 37\n"
          ]
        },
        {
          "output_type": "stream",
          "name": "stderr",
          "text": [
            "100%|██████████| 352/352 [00:02<00:00, 123.11it/s]"
          ]
        },
        {
          "output_type": "stream",
          "name": "stdout",
          "text": [
            "Epoch ID: 36, 'the ave loss': 0.21439583486327055\n"
          ]
        },
        {
          "output_type": "stream",
          "name": "stderr",
          "text": [
            "\n"
          ]
        },
        {
          "output_type": "stream",
          "name": "stdout",
          "text": [
            "Epoch ID: 36, 'the ave val loss': 0.20402671503169195\n",
            "Starting epoch 38\n"
          ]
        },
        {
          "output_type": "stream",
          "name": "stderr",
          "text": [
            "100%|██████████| 352/352 [00:02<00:00, 125.74it/s]"
          ]
        },
        {
          "output_type": "stream",
          "name": "stdout",
          "text": [
            "Epoch ID: 37, 'the ave loss': 0.21439658902223033\n"
          ]
        },
        {
          "output_type": "stream",
          "name": "stderr",
          "text": [
            "\n"
          ]
        },
        {
          "output_type": "stream",
          "name": "stdout",
          "text": [
            "Epoch ID: 37, 'the ave val loss': 0.20402649651680674\n",
            "Starting epoch 39\n"
          ]
        },
        {
          "output_type": "stream",
          "name": "stderr",
          "text": [
            "100%|██████████| 352/352 [00:03<00:00, 100.35it/s]"
          ]
        },
        {
          "output_type": "stream",
          "name": "stdout",
          "text": [
            "Epoch ID: 38, 'the ave loss': 0.21439716286113253\n"
          ]
        },
        {
          "output_type": "stream",
          "name": "stderr",
          "text": [
            "\n"
          ]
        },
        {
          "output_type": "stream",
          "name": "stdout",
          "text": [
            "Epoch ID: 38, 'the ave val loss': 0.20402632696287973\n",
            "Starting epoch 40\n"
          ]
        },
        {
          "output_type": "stream",
          "name": "stderr",
          "text": [
            "100%|██████████| 352/352 [00:03<00:00, 115.99it/s]"
          ]
        },
        {
          "output_type": "stream",
          "name": "stdout",
          "text": [
            "Epoch ID: 39, 'the ave loss': 0.21439757666336268\n"
          ]
        },
        {
          "output_type": "stream",
          "name": "stderr",
          "text": [
            "\n"
          ]
        },
        {
          "output_type": "stream",
          "name": "stdout",
          "text": [
            "Epoch ID: 39, 'the ave val loss': 0.20402620626347406\n",
            "Starting epoch 41\n"
          ]
        },
        {
          "output_type": "stream",
          "name": "stderr",
          "text": [
            "100%|██████████| 352/352 [00:02<00:00, 122.30it/s]"
          ]
        },
        {
          "output_type": "stream",
          "name": "stdout",
          "text": [
            "Epoch ID: 40, 'the ave loss': 0.21439789779635082\n"
          ]
        },
        {
          "output_type": "stream",
          "name": "stderr",
          "text": [
            "\n"
          ]
        },
        {
          "output_type": "stream",
          "name": "stdout",
          "text": [
            "Epoch ID: 40, 'the ave val loss': 0.2040261006781033\n",
            "Starting epoch 42\n"
          ]
        },
        {
          "output_type": "stream",
          "name": "stderr",
          "text": [
            "100%|██████████| 352/352 [00:02<00:00, 123.68it/s]"
          ]
        },
        {
          "output_type": "stream",
          "name": "stdout",
          "text": [
            "Epoch ID: 41, 'the ave loss': 0.21439812599750108\n"
          ]
        },
        {
          "output_type": "stream",
          "name": "stderr",
          "text": [
            "\n"
          ]
        },
        {
          "output_type": "stream",
          "name": "stdout",
          "text": [
            "Epoch ID: 41, 'the ave val loss': 0.20402603042977197\n",
            "Starting epoch 43\n"
          ]
        },
        {
          "output_type": "stream",
          "name": "stderr",
          "text": [
            "100%|██████████| 352/352 [00:03<00:00, 101.17it/s]"
          ]
        },
        {
          "output_type": "stream",
          "name": "stdout",
          "text": [
            "Epoch ID: 42, 'the ave loss': 0.2143982868775228\n"
          ]
        },
        {
          "output_type": "stream",
          "name": "stderr",
          "text": [
            "\n"
          ]
        },
        {
          "output_type": "stream",
          "name": "stdout",
          "text": [
            "Epoch ID: 42, 'the ave val loss': 0.20402597199593273\n",
            "Starting epoch 44\n"
          ]
        },
        {
          "output_type": "stream",
          "name": "stderr",
          "text": [
            "100%|██████████| 352/352 [00:03<00:00, 117.21it/s]"
          ]
        },
        {
          "output_type": "stream",
          "name": "stdout",
          "text": [
            "Epoch ID: 43, 'the ave loss': 0.21439841268941315\n"
          ]
        },
        {
          "output_type": "stream",
          "name": "stderr",
          "text": [
            "\n"
          ]
        },
        {
          "output_type": "stream",
          "name": "stdout",
          "text": [
            "Epoch ID: 43, 'the ave val loss': 0.2040259572012084\n",
            "Starting epoch 45\n"
          ]
        },
        {
          "output_type": "stream",
          "name": "stderr",
          "text": [
            "100%|██████████| 352/352 [00:02<00:00, 123.85it/s]"
          ]
        },
        {
          "output_type": "stream",
          "name": "stdout",
          "text": [
            "Epoch ID: 44, 'the ave loss': 0.2143985022776178\n"
          ]
        },
        {
          "output_type": "stream",
          "name": "stderr",
          "text": [
            "\n"
          ]
        },
        {
          "output_type": "stream",
          "name": "stdout",
          "text": [
            "Epoch ID: 44, 'the ave val loss': 0.20402591260416167\n",
            "Starting epoch 46\n"
          ]
        },
        {
          "output_type": "stream",
          "name": "stderr",
          "text": [
            "100%|██████████| 352/352 [00:02<00:00, 124.44it/s]"
          ]
        },
        {
          "output_type": "stream",
          "name": "stdout",
          "text": [
            "Epoch ID: 45, 'the ave loss': 0.21439851519178113\n"
          ]
        },
        {
          "output_type": "stream",
          "name": "stderr",
          "text": [
            "\n"
          ]
        },
        {
          "output_type": "stream",
          "name": "stdout",
          "text": [
            "Epoch ID: 45, 'the ave val loss': 0.20402590706944465\n",
            "Starting epoch 47\n"
          ]
        },
        {
          "output_type": "stream",
          "name": "stderr",
          "text": [
            "100%|██████████| 352/352 [00:03<00:00, 103.06it/s]"
          ]
        },
        {
          "output_type": "stream",
          "name": "stdout",
          "text": [
            "Epoch ID: 46, 'the ave loss': 0.21439861569193785\n"
          ]
        },
        {
          "output_type": "stream",
          "name": "stderr",
          "text": [
            "\n"
          ]
        },
        {
          "output_type": "stream",
          "name": "stdout",
          "text": [
            "Epoch ID: 46, 'the ave val loss': 0.20402591079473495\n",
            "Starting epoch 48\n"
          ]
        },
        {
          "output_type": "stream",
          "name": "stderr",
          "text": [
            "100%|██████████| 352/352 [00:03<00:00, 114.82it/s]"
          ]
        },
        {
          "output_type": "stream",
          "name": "stdout",
          "text": [
            "Epoch ID: 47, 'the ave loss': 0.2143986558294273\n"
          ]
        },
        {
          "output_type": "stream",
          "name": "stderr",
          "text": [
            "\n"
          ]
        },
        {
          "output_type": "stream",
          "name": "stdout",
          "text": [
            "Epoch ID: 47, 'the ave val loss': 0.20402588759149823\n",
            "Starting epoch 49\n"
          ]
        },
        {
          "output_type": "stream",
          "name": "stderr",
          "text": [
            "100%|██████████| 352/352 [00:02<00:00, 134.85it/s]"
          ]
        },
        {
          "output_type": "stream",
          "name": "stdout",
          "text": [
            "Epoch ID: 48, 'the ave loss': 0.21439868884507715\n"
          ]
        },
        {
          "output_type": "stream",
          "name": "stderr",
          "text": [
            "\n"
          ]
        },
        {
          "output_type": "stream",
          "name": "stdout",
          "text": [
            "Epoch ID: 48, 'the ave val loss': 0.20402588684644019\n",
            "Starting epoch 50\n"
          ]
        },
        {
          "output_type": "stream",
          "name": "stderr",
          "text": [
            "100%|██████████| 352/352 [00:02<00:00, 137.16it/s]"
          ]
        },
        {
          "output_type": "stream",
          "name": "stdout",
          "text": [
            "Epoch ID: 49, 'the ave loss': 0.21439870797819988\n"
          ]
        },
        {
          "output_type": "stream",
          "name": "stderr",
          "text": [
            "\n"
          ]
        },
        {
          "output_type": "stream",
          "name": "stdout",
          "text": [
            "Epoch ID: 49, 'the ave val loss': 0.2040258821632181\n",
            "Starting epoch 51\n"
          ]
        },
        {
          "output_type": "stream",
          "name": "stderr",
          "text": [
            "100%|██████████| 352/352 [00:02<00:00, 121.04it/s]"
          ]
        },
        {
          "output_type": "stream",
          "name": "stdout",
          "text": [
            "Epoch ID: 50, 'the ave loss': 0.21439871662468332\n"
          ]
        },
        {
          "output_type": "stream",
          "name": "stderr",
          "text": [
            "\n"
          ]
        },
        {
          "output_type": "stream",
          "name": "stdout",
          "text": [
            "Epoch ID: 50, 'the ave val loss': 0.20402586236596107\n",
            "Starting epoch 52\n"
          ]
        },
        {
          "output_type": "stream",
          "name": "stderr",
          "text": [
            "100%|██████████| 352/352 [00:02<00:00, 119.59it/s]"
          ]
        },
        {
          "output_type": "stream",
          "name": "stdout",
          "text": [
            "Epoch ID: 51, 'the ave loss': 0.2143987258955762\n"
          ]
        },
        {
          "output_type": "stream",
          "name": "stderr",
          "text": [
            "\n"
          ]
        },
        {
          "output_type": "stream",
          "name": "stdout",
          "text": [
            "Epoch ID: 51, 'the ave val loss': 0.20402587109378406\n",
            "Starting epoch 53\n"
          ]
        },
        {
          "output_type": "stream",
          "name": "stderr",
          "text": [
            "100%|██████████| 352/352 [00:02<00:00, 134.55it/s]"
          ]
        },
        {
          "output_type": "stream",
          "name": "stdout",
          "text": [
            "Epoch ID: 52, 'the ave loss': 0.21439873759663897\n"
          ]
        },
        {
          "output_type": "stream",
          "name": "stderr",
          "text": [
            "\n"
          ]
        },
        {
          "output_type": "stream",
          "name": "stdout",
          "text": [
            "Epoch ID: 52, 'the ave val loss': 0.20402586236596107\n",
            "Starting epoch 54\n"
          ]
        },
        {
          "output_type": "stream",
          "name": "stderr",
          "text": [
            "100%|██████████| 352/352 [00:02<00:00, 138.17it/s]"
          ]
        },
        {
          "output_type": "stream",
          "name": "stdout",
          "text": [
            "Epoch ID: 53, 'the ave loss': 0.21439873990642477\n"
          ]
        },
        {
          "output_type": "stream",
          "name": "stderr",
          "text": [
            "\n"
          ]
        },
        {
          "output_type": "stream",
          "name": "stdout",
          "text": [
            "Epoch ID: 53, 'the ave val loss': 0.20402585150940078\n",
            "Starting epoch 55\n"
          ]
        },
        {
          "output_type": "stream",
          "name": "stderr",
          "text": [
            "100%|██████████| 352/352 [00:02<00:00, 133.32it/s]"
          ]
        },
        {
          "output_type": "stream",
          "name": "stdout",
          "text": [
            "Epoch ID: 54, 'the ave loss': 0.21439874569676415\n"
          ]
        },
        {
          "output_type": "stream",
          "name": "stderr",
          "text": [
            "\n"
          ]
        },
        {
          "output_type": "stream",
          "name": "stdout",
          "text": [
            "Epoch ID: 54, 'the ave val loss': 0.20402586332389286\n",
            "Starting epoch 56\n"
          ]
        },
        {
          "output_type": "stream",
          "name": "stderr",
          "text": [
            "100%|██████████| 352/352 [00:03<00:00, 109.77it/s]"
          ]
        },
        {
          "output_type": "stream",
          "name": "stdout",
          "text": [
            "Epoch ID: 55, 'the ave loss': 0.21439874426538486\n"
          ]
        },
        {
          "output_type": "stream",
          "name": "stderr",
          "text": [
            "\n"
          ]
        },
        {
          "output_type": "stream",
          "name": "stdout",
          "text": [
            "Epoch ID: 55, 'the ave val loss': 0.20402586236596107\n",
            "Starting epoch 57\n"
          ]
        },
        {
          "output_type": "stream",
          "name": "stderr",
          "text": [
            "100%|██████████| 352/352 [00:02<00:00, 135.13it/s]"
          ]
        },
        {
          "output_type": "stream",
          "name": "stdout",
          "text": [
            "Epoch ID: 56, 'the ave loss': 0.2143987492765353\n"
          ]
        },
        {
          "output_type": "stream",
          "name": "stderr",
          "text": [
            "\n"
          ]
        },
        {
          "output_type": "stream",
          "name": "stdout",
          "text": [
            "Epoch ID: 56, 'the ave val loss': 0.2040258526802063\n",
            "Starting epoch 58\n"
          ]
        },
        {
          "output_type": "stream",
          "name": "stderr",
          "text": [
            "100%|██████████| 352/352 [00:02<00:00, 134.50it/s]"
          ]
        },
        {
          "output_type": "stream",
          "name": "stdout",
          "text": [
            "Epoch ID: 57, 'the ave loss': 0.21439875088386048\n"
          ]
        },
        {
          "output_type": "stream",
          "name": "stderr",
          "text": [
            "\n"
          ]
        },
        {
          "output_type": "stream",
          "name": "stdout",
          "text": [
            "Epoch ID: 57, 'the ave val loss': 0.20402585193514824\n",
            "Starting epoch 59\n"
          ]
        },
        {
          "output_type": "stream",
          "name": "stderr",
          "text": [
            "100%|██████████| 352/352 [00:02<00:00, 133.39it/s]"
          ]
        },
        {
          "output_type": "stream",
          "name": "stdout",
          "text": [
            "Epoch ID: 58, 'the ave loss': 0.21439874768111622\n"
          ]
        },
        {
          "output_type": "stream",
          "name": "stderr",
          "text": [
            "\n"
          ]
        },
        {
          "output_type": "stream",
          "name": "stdout",
          "text": [
            "Epoch ID: 58, 'the ave val loss': 0.2040258641753878\n",
            "Starting epoch 60\n"
          ]
        },
        {
          "output_type": "stream",
          "name": "stderr",
          "text": [
            " 61%|██████▏   | 216/352 [00:02<00:01, 107.89it/s]\n"
          ]
        },
        {
          "output_type": "error",
          "ename": "KeyboardInterrupt",
          "evalue": "ignored",
          "traceback": [
            "\u001b[0;31m---------------------------------------------------------------------------\u001b[0m",
            "\u001b[0;31mKeyboardInterrupt\u001b[0m                         Traceback (most recent call last)",
            "\u001b[0;32m<ipython-input-140-f3cd76369663>\u001b[0m in \u001b[0;36m<cell line: 1>\u001b[0;34m()\u001b[0m\n\u001b[1;32m     42\u001b[0m \u001b[0;34m\u001b[0m\u001b[0m\n\u001b[1;32m     43\u001b[0m                 \u001b[0mloss\u001b[0m \u001b[0;34m=\u001b[0m \u001b[0mcriterion\u001b[0m\u001b[0;34m(\u001b[0m\u001b[0moutputs\u001b[0m\u001b[0;34m,\u001b[0m \u001b[0mlabels\u001b[0m\u001b[0;34m)\u001b[0m\u001b[0;34m\u001b[0m\u001b[0;34m\u001b[0m\u001b[0m\n\u001b[0;32m---> 44\u001b[0;31m                 \u001b[0mloss\u001b[0m\u001b[0;34m.\u001b[0m\u001b[0mbackward\u001b[0m\u001b[0;34m(\u001b[0m\u001b[0;34m)\u001b[0m\u001b[0;34m\u001b[0m\u001b[0;34m\u001b[0m\u001b[0m\n\u001b[0m\u001b[1;32m     45\u001b[0m                 \u001b[0moptimizer\u001b[0m\u001b[0;34m.\u001b[0m\u001b[0mstep\u001b[0m\u001b[0;34m(\u001b[0m\u001b[0;34m)\u001b[0m\u001b[0;34m\u001b[0m\u001b[0;34m\u001b[0m\u001b[0m\n\u001b[1;32m     46\u001b[0m \u001b[0;34m\u001b[0m\u001b[0m\n",
            "\u001b[0;32m/usr/local/lib/python3.9/dist-packages/torch/_tensor.py\u001b[0m in \u001b[0;36mbackward\u001b[0;34m(self, gradient, retain_graph, create_graph, inputs)\u001b[0m\n\u001b[1;32m    485\u001b[0m                 \u001b[0minputs\u001b[0m\u001b[0;34m=\u001b[0m\u001b[0minputs\u001b[0m\u001b[0;34m,\u001b[0m\u001b[0;34m\u001b[0m\u001b[0;34m\u001b[0m\u001b[0m\n\u001b[1;32m    486\u001b[0m             )\n\u001b[0;32m--> 487\u001b[0;31m         torch.autograd.backward(\n\u001b[0m\u001b[1;32m    488\u001b[0m             \u001b[0mself\u001b[0m\u001b[0;34m,\u001b[0m \u001b[0mgradient\u001b[0m\u001b[0;34m,\u001b[0m \u001b[0mretain_graph\u001b[0m\u001b[0;34m,\u001b[0m \u001b[0mcreate_graph\u001b[0m\u001b[0;34m,\u001b[0m \u001b[0minputs\u001b[0m\u001b[0;34m=\u001b[0m\u001b[0minputs\u001b[0m\u001b[0;34m\u001b[0m\u001b[0;34m\u001b[0m\u001b[0m\n\u001b[1;32m    489\u001b[0m         )\n",
            "\u001b[0;32m/usr/local/lib/python3.9/dist-packages/torch/autograd/__init__.py\u001b[0m in \u001b[0;36mbackward\u001b[0;34m(tensors, grad_tensors, retain_graph, create_graph, grad_variables, inputs)\u001b[0m\n\u001b[1;32m    198\u001b[0m     \u001b[0;31m# some Python versions print out the first line of a multi-line function\u001b[0m\u001b[0;34m\u001b[0m\u001b[0;34m\u001b[0m\u001b[0m\n\u001b[1;32m    199\u001b[0m     \u001b[0;31m# calls in the traceback and some print out the last line\u001b[0m\u001b[0;34m\u001b[0m\u001b[0;34m\u001b[0m\u001b[0m\n\u001b[0;32m--> 200\u001b[0;31m     Variable._execution_engine.run_backward(  # Calls into the C++ engine to run the backward pass\n\u001b[0m\u001b[1;32m    201\u001b[0m         \u001b[0mtensors\u001b[0m\u001b[0;34m,\u001b[0m \u001b[0mgrad_tensors_\u001b[0m\u001b[0;34m,\u001b[0m \u001b[0mretain_graph\u001b[0m\u001b[0;34m,\u001b[0m \u001b[0mcreate_graph\u001b[0m\u001b[0;34m,\u001b[0m \u001b[0minputs\u001b[0m\u001b[0;34m,\u001b[0m\u001b[0;34m\u001b[0m\u001b[0;34m\u001b[0m\u001b[0m\n\u001b[1;32m    202\u001b[0m         allow_unreachable=True, accumulate_grad=True)  # Calls into the C++ engine to run the backward pass\n",
            "\u001b[0;31mKeyboardInterrupt\u001b[0m: "
          ]
        }
      ]
    },
    {
      "cell_type": "code",
      "source": [
        "import random\n",
        "checkpointFile = \"/content/drive/MyDrive/Neural Networks Project/Convolution_best_model_conv\"\n",
        "\n",
        "# If using GPU, we need the following line.\n",
        "device = torch.device('cuda:0' if torch.cuda.is_available() else 'cpu')\n",
        "print(\"Currently using device: \", device)\n",
        "\n",
        "# Initialize the model and print out its configuration\n",
        "model = CNN(numChannels = args.num_channels)\n",
        "model.to(device)\n",
        "\n",
        "model.load_state_dict(torch.load(f\"{checkpointFile}.pth\"))\n",
        "\n",
        "\n",
        "generatingLoader = DataLoader(valset, batch_size=1, shuffle=True)\n",
        "\n",
        "\n",
        "# Get one data point from the DataLoader\n",
        "data_point, true = next(iter(generatingLoader))\n",
        "data_point = data_point.to(device)\n",
        "# print(data_point)\n",
        "print(\"true\")\n",
        "print(true)\n",
        "model.eval()\n",
        "torch.no_grad()\n",
        "print(\"predicted\")\n",
        "print(model(data_point))"
      ],
      "metadata": {
        "id": "CBuoY8J3dWwJ",
        "colab": {
          "base_uri": "https://localhost:8080/"
        },
        "outputId": "9bbe3889-bd83-4c2e-95ba-399b2844e23b"
      },
      "execution_count": null,
      "outputs": [
        {
          "output_type": "stream",
          "name": "stdout",
          "text": [
            "Currently using device:  cuda:0\n",
            "true\n",
            "tensor([[1.0000, 0.0000, 0.2899]])\n",
            "predicted\n",
            "tensor([[0.7650, 0.2131, 0.3131]], device='cuda:0', grad_fn=<SigmoidBackward0>)\n"
          ]
        }
      ]
    },
    {
      "cell_type": "code",
      "source": [
        "\n"
      ],
      "metadata": {
        "id": "YzYhq6MLzKH_"
      },
      "execution_count": null,
      "outputs": []
    }
  ]
}